{
 "cells": [
  {
   "cell_type": "code",
   "execution_count": null,
   "id": "64b49dee-ca62-44c8-bf83-8d408e60efdc",
   "metadata": {
    "tags": []
   },
   "outputs": [],
   "source": [
    "import xarray as xr\n",
    "import numpy as np\n",
    "import matplotlib.pyplot as plt\n",
    "%matplotlib widget"
   ]
  },
  {
   "cell_type": "code",
   "execution_count": null,
   "id": "7bb6e816-9ca7-487b-843e-d8fcd7f058e2",
   "metadata": {
    "tags": []
   },
   "outputs": [],
   "source": [
    "with xr.open_dataset('channelstrat.snapshot.nc') as ds:\n",
    "    ds = ds.isel(xt=0, xu=0, Time=-1)\n",
    "    fig, ax = plt.subplots()\n",
    "    ax.set_facecolor('0.7')\n",
    "    ax.pcolormesh(ds.u, vmin=-2, vmax=2, cmap='RdBu_r')\n",
    "    ax.contour(ds.temp, levels=np.arange(0, 300, 3))"
   ]
  },
  {
   "cell_type": "code",
   "execution_count": null,
   "id": "2101e4bc-ce4e-4e07-8f54-8eb99af5f3ce",
   "metadata": {
    "tags": []
   },
   "outputs": [],
   "source": [
    "with xr.open_dataset('channelstrat.snapshot.nc') as ds:\n",
    "    ds = ds.isel(xt=0, xu=0, Time=-1)\n",
    "    fig, ax = plt.subplots()\n",
    "    ax.pcolormesh(ds.p_hydro-ds.p_hydro[:, 80])\n",
    "    ax.contour(ds.temp)"
   ]
  },
  {
   "cell_type": "code",
   "execution_count": null,
   "id": "7262803e-95b5-4c91-9ea6-78c9f08008c6",
   "metadata": {},
   "outputs": [],
   "source": []
  },
  {
   "cell_type": "code",
   "execution_count": null,
   "id": "c06a975f-b427-4f5c-8cf2-9ab9b1713863",
   "metadata": {},
   "outputs": [],
   "source": []
  }
 ],
 "metadata": {
  "kernelspec": {
   "display_name": "Python 3 (ipykernel)",
   "language": "python",
   "name": "python3"
  },
  "language_info": {
   "codemirror_mode": {
    "name": "ipython",
    "version": 3
   },
   "file_extension": ".py",
   "mimetype": "text/x-python",
   "name": "python",
   "nbconvert_exporter": "python",
   "pygments_lexer": "ipython3",
   "version": "3.8.17"
  }
 },
 "nbformat": 4,
 "nbformat_minor": 5
}

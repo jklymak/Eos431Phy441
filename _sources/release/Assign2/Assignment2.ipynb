{
 "cells": [
  {
   "cell_type": "markdown",
   "id": "8ee53acb-fc2f-4061-be8a-8c3d9ecc2380",
   "metadata": {
    "deletable": false,
    "editable": false,
    "nbgrader": {
     "cell_type": "markdown",
     "checksum": "4c3a12e86d34eddf584e04bfec435279",
     "grade": false,
     "grade_id": "cell-b82f26056843434c",
     "locked": true,
     "schema_version": 3,
     "solution": false,
     "task": false
    },
    "tags": []
   },
   "source": [
    "(assignment_2)=\n",
    "# Assignment 2: Wind-driven channel flow and basin-scale flow\n",
    "\n",
    "For this assignment you will do quantiative analysis of the channel flow (see {ref}`assignment_1`), and a qualitative analysis of flow in a basin under wind stress curl.  \n",
    "\n",
    "## Q1.1  Stress with no rotation\n",
    "\n",
    "For the simulation with no rotation (`channelnof`), plot a profile of the x-momentum stress that is transmitted in the vertical direction at a point in the middle of the channel.  Do this at something like 12 h into the simulation.  \n",
    "\n",
    "What is the net acceleration of the water parcel due to this stress profile?  \n",
    "\n",
    "Recall that the surface stress is equal to $\\tau_w = 0.2 \\ \\mathrm{N\\,m^{-2}}$, and the vertical viscosity is $\\kappa = 10^{-3}\\ \\mathrm{m^2\\,s^{-1}}$.  What will the velocity and stress profile look like at steady state (flow no longer accelerating), or is there a steady state? \n",
    "\n",
    "\n"
   ]
  },
  {
   "cell_type": "code",
   "execution_count": null,
   "id": "4bb8e568-b56c-43e1-9983-a563126cf835",
   "metadata": {
    "deletable": false,
    "editable": false,
    "nbgrader": {
     "cell_type": "code",
     "checksum": "2c0406f2b47724c863e51613ed8d562b",
     "grade": false,
     "grade_id": "cell-abe4bb0080495009",
     "locked": true,
     "schema_version": 3,
     "solution": false,
     "task": false
    },
    "tags": []
   },
   "outputs": [],
   "source": [
    "import xarray as xr\n",
    "import numpy as np\n",
    "import matplotlib.pyplot as plt"
   ]
  },
  {
   "cell_type": "code",
   "execution_count": null,
   "id": "b38d7a1c-c9d7-48c5-9107-74e41f9d5541",
   "metadata": {
    "deletable": false,
    "editable": false,
    "nbgrader": {
     "cell_type": "code",
     "checksum": "0a6beb19d3eb14518efdaee2473e6c22",
     "grade": false,
     "grade_id": "cell-a71f52438f2530ac",
     "locked": true,
     "schema_version": 3,
     "solution": false,
     "task": false
    },
    "tags": [
     "skip-execution"
    ]
   },
   "outputs": [],
   "source": [
    "# use the matplotlib widget\n",
    "%matplotlib widget"
   ]
  },
  {
   "cell_type": "code",
   "execution_count": null,
   "id": "74da1630-e629-4fbd-9891-409cfc6ffc1a",
   "metadata": {
    "deletable": false,
    "nbgrader": {
     "cell_type": "code",
     "checksum": "cd33a3402beb99592066863310abbfbb",
     "grade": true,
     "grade_id": "cell-c1e3195c9950cdd6",
     "locked": false,
     "points": 0,
     "schema_version": 3,
     "solution": true,
     "task": false
    },
    "tags": []
   },
   "outputs": [],
   "source": [
    "# YOUR CODE HERE\n",
    "raise NotImplementedError()"
   ]
  },
  {
   "cell_type": "markdown",
   "id": "f248dd2f-1190-4c09-ab4c-75d862f5c2e7",
   "metadata": {},
   "source": [
    "This flow is not in steady state yet.  Steady state would be a linear profile of velocity with $\\nu \\partial u / \\partial z = \\tau_w / \\rho$ so $u(z=0) = 10 \\ \\mathrm{m\\,s^{-1}}$.  This would lead to a constant stress through the water column As it is, the flow is faster above than below, and the stress is higher with increasing z, so momentum is converging with depth and $\\partial u / \\partial t>0$.   \n",
    "\n",
    "Note that the time scale for this to be in steady state is $T\\approx H^2 / \\kappa \\approx 28$ days, so we would have to run the simulation for considerably longer to see the steady state behaviour."
   ]
  },
  {
   "cell_type": "markdown",
   "id": "5ebff6e3-58bd-4f52-bee0-127969bfa05c",
   "metadata": {
    "deletable": false,
    "editable": false,
    "nbgrader": {
     "cell_type": "markdown",
     "checksum": "db8f2d28c2bd31f0af06112225651fcc",
     "grade": false,
     "grade_id": "cell-2f3d141562ae0b4b",
     "locked": true,
     "schema_version": 3,
     "solution": false,
     "task": false
    },
    "tags": []
   },
   "source": [
    "## Q1.2 Geostrophic balance (interior)\n",
    "\n",
    "For the f-plane simulation (`channelfplane`) show that the interior of the flow (away from the Ekman layers) is approximately in geostrophic balance with the surface flow.  Note that $f=10^{-4}\\ \\mathrm{rad\\,s^{-1}}$.  I did this by comparing the size of $u$ with the size of $(g/f) \\partial  \\eta / \\partial x$ across the whol y-z cross-section.  \n",
    "\n",
    "```{hint}\n",
    "Remember that the surface pressure, $g\\eta$, is given by `psi` in veros.\n",
    "```\n",
    "\n",
    "Describe where in the water column the geostrophic balance is poor.   "
   ]
  },
  {
   "cell_type": "code",
   "execution_count": null,
   "id": "af5d2bf3-5b94-4cf2-a86b-a2164c3d1020",
   "metadata": {
    "deletable": false,
    "nbgrader": {
     "cell_type": "code",
     "checksum": "0451baf98caf2186da60333a6a66cdbf",
     "grade": true,
     "grade_id": "cell-d07a1c4a7a82945e",
     "locked": false,
     "points": 0,
     "schema_version": 3,
     "solution": true,
     "task": false
    },
    "tags": []
   },
   "outputs": [],
   "source": [
    "# YOUR CODE HERE\n",
    "raise NotImplementedError()"
   ]
  },
  {
   "cell_type": "markdown",
   "id": "43e07deb-13da-4889-979e-1103d4adcdce",
   "metadata": {
    "deletable": false,
    "nbgrader": {
     "cell_type": "markdown",
     "checksum": "1531f794e25ac0cb3ca8e591c73f6726",
     "grade": true,
     "grade_id": "cell-4d3ffbbc835a7989",
     "locked": false,
     "points": 0,
     "schema_version": 3,
     "solution": true,
     "task": false
    },
    "tags": []
   },
   "source": [
    "YOUR ANSWER HERE"
   ]
  },
  {
   "cell_type": "markdown",
   "id": "42af3c88-ddcc-48d0-a3a6-078f9a7078c6",
   "metadata": {
    "deletable": false,
    "editable": false,
    "nbgrader": {
     "cell_type": "markdown",
     "checksum": "7a066cc008be15b1205fab1d36a61dbc",
     "grade": false,
     "grade_id": "cell-ff2e58834c767e90",
     "locked": true,
     "schema_version": 3,
     "solution": false,
     "task": false
    },
    "tags": []
   },
   "source": [
    "## Q1.3 Ekman balance\n",
    "\n",
    "Plot as a time-series and demonstrate that the Ekman Transport reaches the expected value in the upper part of the water column and that there is an equal and opposite Ekman transport in the bottom boundary layer.  You can do this with y at the center of the channel.  \n",
    "\n",
    "```{hint}\n",
    "The tendency would be to use `integrate` to do the integral.  However a lot of the Ekman transport is in the first grid cell, and the trapezoid rule does a poor job at the boundary.  Suggest you use `sum` instead (and multiply by the correct dz for each cell).\n",
    "\n",
    "```\n"
   ]
  },
  {
   "cell_type": "code",
   "execution_count": null,
   "id": "f1568979-9360-4a31-bf58-7b3fa91af47d",
   "metadata": {
    "deletable": false,
    "nbgrader": {
     "cell_type": "code",
     "checksum": "3323a44c2bf3fea7414aa800d430e096",
     "grade": true,
     "grade_id": "cell-4f79773ea5cc4171",
     "locked": false,
     "points": 0,
     "schema_version": 3,
     "solution": true,
     "task": false
    },
    "tags": []
   },
   "outputs": [],
   "source": [
    "# YOUR CODE HERE\n",
    "raise NotImplementedError()"
   ]
  },
  {
   "cell_type": "markdown",
   "id": "c4746f1a-3ee6-4067-9b31-7534c8cfd595",
   "metadata": {
    "deletable": false,
    "editable": false,
    "nbgrader": {
     "cell_type": "markdown",
     "checksum": "f38206f45f3bc86cbd7a5829b9da7c4a",
     "grade": false,
     "grade_id": "cell-0a92dd15de69a722",
     "locked": true,
     "schema_version": 3,
     "solution": false,
     "task": false
    },
    "tags": []
   },
   "source": [
    "## Q1.4 Ekman spiral\n",
    "\n",
    "Show that the velocity in the upper and lower Ekman layers follow the Ekman spiral solution in the upper ocean and near the sea floor.  Also add the two Ekman layer solutions together and compare to the observed profile.\n"
   ]
  },
  {
   "cell_type": "code",
   "execution_count": null,
   "id": "da9c63ed-9b5c-4c38-a219-fd6f4c11d380",
   "metadata": {
    "deletable": false,
    "nbgrader": {
     "cell_type": "code",
     "checksum": "d22efadae55eb34c05c6c19c60a6dec4",
     "grade": true,
     "grade_id": "cell-a1014ae58883532b",
     "locked": false,
     "points": 0,
     "schema_version": 3,
     "solution": true,
     "task": false
    },
    "tags": []
   },
   "outputs": [],
   "source": [
    "# YOUR CODE HERE\n",
    "raise NotImplementedError()"
   ]
  },
  {
   "cell_type": "markdown",
   "id": "28bbcc58-9505-4ab9-95f4-2e57de606097",
   "metadata": {
    "deletable": false,
    "editable": false,
    "nbgrader": {
     "cell_type": "markdown",
     "checksum": "742d483b8b8c73fc420b2ee3c972832b",
     "grade": false,
     "grade_id": "cell-527fa7f62c6f6986",
     "locked": true,
     "schema_version": 3,
     "solution": false,
     "task": false
    },
    "tags": []
   },
   "source": [
    "## Q2: Wind-driven basin: Qualitative\n",
    "\n",
    "In this simulation an 80x80km 200-m deep basin is used.  Wind is blown on it so that it blows strongest to the west at the south side of the box, and strongest to the east atthe top of the box, so $\\tau_x^w = -0.1 \\cos\\left(\\pi \\frac{y}{y_{max}}\\right)$.  There are two runs, where $f=f_0 = 10^{-4}\\ \\mathrm{rad \\, s^{-1}}$, and a second where f increases towards the north: $f = f_0 + \\left( 10^{-9} \\left( ms \\right)^{-1} \\right) y$\n",
    "\n",
    "To make the simulation output, please run `basinfplane.py` and `basinbetaplane.py`.\n",
    "\n",
    "### Q2.1: plot the wind stress as a function of y \n",
    "\n",
    "Note that this is stored in `ds.surface_taux` (and `ds.surface_tauy`).  Describe a) what direction youd expect the Ekman transport to be at $y=40\\ \\mathrm{km}$ and at $y=130\\ \\mathrm{km}$ b) describe what must happen between these two \"latitudes\" given these Ekman transports.  c) What direction is the water being \"torqued\" (twisted)?  d) hwo do you think the water will move in this flow given that it will be close to geostrophic balance.\n",
    "\n"
   ]
  },
  {
   "cell_type": "code",
   "execution_count": null,
   "id": "937ec226-1009-41e5-be85-0803e795305d",
   "metadata": {
    "deletable": false,
    "nbgrader": {
     "cell_type": "code",
     "checksum": "e88363d1b67bd23e45ee9d7a5943dd87",
     "grade": true,
     "grade_id": "cell-47786570c46b68ea",
     "locked": false,
     "points": 0,
     "schema_version": 3,
     "solution": true,
     "task": false
    },
    "tags": []
   },
   "outputs": [],
   "source": [
    "# YOUR CODE HERE\n",
    "raise NotImplementedError()"
   ]
  },
  {
   "cell_type": "markdown",
   "id": "c3b8b731-0544-4404-a445-27cffc1f58ae",
   "metadata": {
    "deletable": false,
    "nbgrader": {
     "cell_type": "markdown",
     "checksum": "9f511298db0fbbe384b81c6b6cfcbc6f",
     "grade": true,
     "grade_id": "cell-d5be2683c5208b9d",
     "locked": false,
     "points": 0,
     "schema_version": 3,
     "solution": true,
     "task": false
    },
    "tags": []
   },
   "source": [
    "YOUR ANSWER HERE"
   ]
  },
  {
   "cell_type": "markdown",
   "id": "3e1fa09a-79b7-4684-bf4e-decda9b56111",
   "metadata": {
    "deletable": false,
    "editable": false,
    "nbgrader": {
     "cell_type": "markdown",
     "checksum": "1055053d923596a18c7b766847878936",
     "grade": false,
     "grade_id": "cell-a8a35612014dcdbb",
     "locked": true,
     "schema_version": 3,
     "solution": false,
     "task": false
    },
    "tags": []
   },
   "source": [
    "### Q2.2\n",
    "\n",
    "Plot four or so snapshots of `basinfplane` and `basinbetaplane` and compare and contrast the behaviour over time.  I suggest plotting `psi` which is the sea surface pressure anomally $g\\eta$ using contours, overtop of pcolor of the north-south velocity $v$.  \n",
    "\n",
    "Note that there is an Ekman layer, so $v(z=0)$ is interesting, but a bit misleading for the over-all circulation.  `ds.v.mean(dim='zt')` is a useful pcolor to make, or you could choose a depth out of the Ekman layer.  \n",
    "\n",
    "What are the similarities and differences between the two simulations?  Which one looks more like the real ocean?  "
   ]
  },
  {
   "cell_type": "code",
   "execution_count": null,
   "id": "600a7c4c-75a9-438a-9794-3a42e21e7b78",
   "metadata": {
    "deletable": false,
    "nbgrader": {
     "cell_type": "code",
     "checksum": "5a677b73b6b978fbed70e726dbfb17a3",
     "grade": true,
     "grade_id": "cell-92e8376e9f666efb",
     "locked": false,
     "points": 0,
     "schema_version": 3,
     "solution": true,
     "task": false
    },
    "tags": []
   },
   "outputs": [],
   "source": [
    "# YOUR CODE HERE\n",
    "raise NotImplementedError()"
   ]
  },
  {
   "cell_type": "markdown",
   "id": "bde2b65b-ac34-4add-9cad-ad004500ace9",
   "metadata": {
    "deletable": false,
    "nbgrader": {
     "cell_type": "markdown",
     "checksum": "37f4543ada9aabc6c459135db194bc47",
     "grade": true,
     "grade_id": "cell-17ee797070eb3b68",
     "locked": false,
     "points": 0,
     "schema_version": 3,
     "solution": true,
     "task": false
    },
    "tags": []
   },
   "source": [
    "YOUR ANSWER HERE"
   ]
  }
 ],
 "metadata": {
  "kernelspec": {
   "display_name": "Python 3 (ipykernel)",
   "language": "python",
   "name": "python3"
  },
  "language_info": {
   "codemirror_mode": {
    "name": "ipython",
    "version": 3
   },
   "file_extension": ".py",
   "mimetype": "text/x-python",
   "name": "python",
   "nbconvert_exporter": "python",
   "pygments_lexer": "ipython3",
   "version": "3.8.17"
  }
 },
 "nbformat": 4,
 "nbformat_minor": 5
}

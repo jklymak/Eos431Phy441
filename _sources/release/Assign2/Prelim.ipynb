{
 "cells": [
  {
   "cell_type": "markdown",
   "id": "14a85744-5008-4d84-8ec3-41f9dc35f5e0",
   "metadata": {},
   "source": []
  },
  {
   "cell_type": "code",
   "execution_count": null,
   "id": "8513860b-6ec2-47d9-9961-5f4d340318de",
   "metadata": {
    "tags": []
   },
   "outputs": [],
   "source": [
    "import xarray as xr\n",
    "import numpy as np\n",
    "import matplotlib.pyplot as plt\n",
    "%matplotlib widget"
   ]
  },
  {
   "cell_type": "code",
   "execution_count": null,
   "id": "0e15c6ac-be8b-458f-9343-2bbc91aa93ce",
   "metadata": {
    "tags": []
   },
   "outputs": [],
   "source": [
    "with xr.open_dataset('basinfplane.snapshot.nc') as ds:\n",
    "    ds = ds.isel(Time=-1)\n",
    "    fig, ax = plt.subplots()\n",
    "    cs = ax.contour(ds.psi)\n",
    "    ax.pcolormesh(ds.v.isel(zt=-5), vmin=-0.03, vmax=0.03, cmap='RdBu_r')\n",
    "\n",
    "    ax.clabel(cs)"
   ]
  },
  {
   "cell_type": "code",
   "execution_count": null,
   "id": "cf1ae17b-f34e-42de-ac65-9f6d1a4376fc",
   "metadata": {
    "tags": []
   },
   "outputs": [],
   "source": [
    "with xr.open_dataset('basinbetaplane.snapshot.nc') as ds:\n",
    "    fig, ax = plt.subplots()\n",
    "    ds = ds.isel(Time=-1)\n",
    "    cs= ax.contour(ds.psi)\n",
    "    ax.pcolormesh(ds.v.mean(dim='zt'), vmin=-0.1, vmax=0.1, cmap='RdBu_r')\n",
    "    ax.clabel(cs)"
   ]
  },
  {
   "cell_type": "code",
   "execution_count": null,
   "id": "03da85ce-57e1-4050-85ce-88d82c2cf6c0",
   "metadata": {
    "tags": []
   },
   "outputs": [],
   "source": [
    "with xr.open_dataset('basinbetaplaneSideways.snapshot.nc') as ds:\n",
    "    fig, ax = plt.subplots()\n",
    "    ds = ds.isel(Time=-1)\n",
    "    cs= ax.contour(ds.psi)\n",
    "    ax.pcolormesh(ds.v.isel(zt=-4), vmin=-0.1, vmax=0.1, cmap='RdBu_r')\n",
    "    ax.clabel(cs)"
   ]
  },
  {
   "cell_type": "code",
   "execution_count": null,
   "id": "f9071584-63cb-4423-bb1d-0beea18ddf45",
   "metadata": {
    "tags": []
   },
   "outputs": [],
   "source": [
    "fig, ax = plt.subplots()\n",
    "ax.plot(ds.surface_tauy[10, :])"
   ]
  },
  {
   "cell_type": "code",
   "execution_count": null,
   "id": "26b72da2-b820-4e64-83c2-898cd815cb26",
   "metadata": {
    "tags": []
   },
   "outputs": [],
   "source": [
    "with xr.open_dataset('basinbetaplane.snapshot.nc') as ds:\n",
    "    fig, ax = plt.subplots()\n",
    "    ds = ds.isel(Time=-1)\n",
    "    ax.pcolormesh(ds.v.isel(xt=40), vmin=-0.03, vmax=0.03, cmap='RdBu_r')\n",
    "    ax.clabel(cs)"
   ]
  },
  {
   "cell_type": "code",
   "execution_count": null,
   "id": "9bac779e-16d4-4289-9b62-61bc7e780b6f",
   "metadata": {
    "tags": []
   },
   "outputs": [],
   "source": [
    "fig, ax = plt.subplots()\n",
    "ax.pcolormesh(ds.w.isel(zw=-2).rolling(xt=3).mean().rolling(yt=3).mean(), vmin=-0.000003, vmax=0.000003, cmap='RdBu_r')\n"
   ]
  },
  {
   "cell_type": "code",
   "execution_count": null,
   "id": "6ba573d5-0fac-4051-917a-f76628ca49a1",
   "metadata": {
    "tags": []
   },
   "outputs": [],
   "source": [
    "ds.ht"
   ]
  },
  {
   "cell_type": "code",
   "execution_count": null,
   "id": "239352b5-5141-49a7-935a-35f6204c5e82",
   "metadata": {
    "tags": []
   },
   "outputs": [],
   "source": [
    "ds"
   ]
  },
  {
   "cell_type": "code",
   "execution_count": null,
   "id": "00a394ac-15de-425a-86aa-42cf0f274f9c",
   "metadata": {
    "tags": []
   },
   "outputs": [],
   "source": [
    "with xr.open_dataset('basinbetaplane.snapshot.nc') as ds:\n",
    "    display(ds)"
   ]
  },
  {
   "cell_type": "code",
   "execution_count": null,
   "id": "f3dbddd1-3515-4120-97d2-e28cff3b3a9b",
   "metadata": {},
   "outputs": [],
   "source": []
  }
 ],
 "metadata": {
  "kernelspec": {
   "display_name": "Python 3 (ipykernel)",
   "language": "python",
   "name": "python3"
  },
  "language_info": {
   "codemirror_mode": {
    "name": "ipython",
    "version": 3
   },
   "file_extension": ".py",
   "mimetype": "text/x-python",
   "name": "python",
   "nbconvert_exporter": "python",
   "pygments_lexer": "ipython3",
   "version": "3.8.17"
  }
 },
 "nbformat": 4,
 "nbformat_minor": 5
}

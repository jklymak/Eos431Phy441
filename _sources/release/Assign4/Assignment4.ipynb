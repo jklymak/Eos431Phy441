{
 "cells": [
  {
   "cell_type": "markdown",
   "id": "8ee53acb-fc2f-4061-be8a-8c3d9ecc2380",
   "metadata": {
    "deletable": false,
    "editable": false,
    "nbgrader": {
     "cell_type": "markdown",
     "checksum": "b9af4f866e3fece8bad70422d7c3b4fb",
     "grade": false,
     "grade_id": "cell-c2272902d357a1f2",
     "locked": true,
     "schema_version": 3,
     "solution": false,
     "task": false
    },
    "tags": []
   },
   "source": [
    "(assignment_4)=\n",
    "\n",
    "# Assignment 4: Basin-scale waves and overturning circulation\n",
    "\n",
    "For this assignment you will do quantiative analysis of basin-scale waves (see {ref}`assignment_3`), and a qualitative analysis of overturning circulations.\n",
    "\n",
    "## Q1.1  Super-inertial Poincarre waves.\n",
    "\n",
    "### Q1.1.a Determine the wavelength and frequency of waves\n",
    "\n",
    "\n",
    "From the `poincarre12.py` simulation, estimate the wavelength and frequency of the waves produced.  \n",
    "\n",
    "Estimate the phase speed and compare to theory.  Estimate the group speed and compare to theory.  Recall that $f=10^{-4} \\ \\mathrm{rad\\,s^{-1}}$, and that the high-frequency wave speed is given by $\\sqrt{\\frac{g'h_1 h_2}{h_1 + h_2}}$, where $h_1 = 60 \\ \\mathrm{m}$, $h_2 = 140\\ \\mathrm{m}$, and $g' = 0.2 g / 1000 = 1.96\\times10^{-3}\\ \\mathrm{m\\,s^{-2}}$\n",
    "\n"
   ]
  },
  {
   "cell_type": "code",
   "execution_count": null,
   "id": "4bb8e568-b56c-43e1-9983-a563126cf835",
   "metadata": {
    "deletable": false,
    "editable": false,
    "nbgrader": {
     "cell_type": "code",
     "checksum": "c4e8de535cc23e963f5c5636bbd6ba29",
     "grade": false,
     "grade_id": "cell-9abdad54797c94ff",
     "locked": true,
     "schema_version": 3,
     "solution": false,
     "task": false
    },
    "tags": []
   },
   "outputs": [],
   "source": [
    "import xarray as xr\n",
    "import numpy as np\n",
    "import matplotlib.pyplot as plt\n",
    "\n",
    "def subplots_shared(n, m, sharex=True, sharey=True, layout='constrained', figsize=None):\n",
    "    return plt.subplots(n, m, sharex=sharex, sharey=sharey, layout=layout, figsize=figsize)\n",
    "\n",
    "def pcolormesh_sym(x, y, z, vbound, ax=None, cmap='RdBu_r'):\n",
    "    if ax is None:\n",
    "        ax = plt.gca()\n",
    "    return ax.pcolormesh(x, y, z, vmin=-vbound, vmax=vbound, cmap=cmap, rasterized=True)\n",
    "\n",
    "def tohours(Time):\n",
    "    return Time.values.astype('float') / 1e9 /3600\n"
   ]
  },
  {
   "cell_type": "code",
   "execution_count": null,
   "id": "b38d7a1c-c9d7-48c5-9107-74e41f9d5541",
   "metadata": {
    "deletable": false,
    "editable": false,
    "nbgrader": {
     "cell_type": "code",
     "checksum": "4ed0fbc9ac48cb80836d73c3eb55d697",
     "grade": false,
     "grade_id": "cell-9067a3586563cead",
     "locked": true,
     "schema_version": 3,
     "solution": false,
     "task": false
    },
    "tags": [
     "skip-execution"
    ]
   },
   "outputs": [],
   "source": [
    "# use the matplotlib widget\n",
    "%matplotlib widget"
   ]
  },
  {
   "cell_type": "code",
   "execution_count": null,
   "id": "74da1630-e629-4fbd-9891-409cfc6ffc1a",
   "metadata": {
    "deletable": false,
    "nbgrader": {
     "cell_type": "code",
     "checksum": "c873f12eb4bfe93d254c00d315997af0",
     "grade": true,
     "grade_id": "cell-4b27540476923a1e",
     "locked": false,
     "points": 0,
     "schema_version": 3,
     "solution": true,
     "task": false
    },
    "tags": []
   },
   "outputs": [],
   "source": [
    "# YOUR CODE HERE\n",
    "raise NotImplementedError()"
   ]
  },
  {
   "cell_type": "markdown",
   "id": "61ba9125-fc71-4f9f-8f01-8ca80e60feef",
   "metadata": {
    "deletable": false,
    "nbgrader": {
     "cell_type": "markdown",
     "checksum": "4f59818dd9affea1a54eed6b99a08c26",
     "grade": true,
     "grade_id": "cell-673505891f4ca63f",
     "locked": false,
     "points": 0,
     "schema_version": 3,
     "solution": true,
     "task": false
    },
    "tags": []
   },
   "source": [
    "YOUR ANSWER HERE"
   ]
  },
  {
   "cell_type": "markdown",
   "id": "38325de7-4c8a-437c-8706-d4f5c77ba909",
   "metadata": {
    "deletable": false,
    "editable": false,
    "nbgrader": {
     "cell_type": "markdown",
     "checksum": "08a998b010d8f4eb518049e7410db380",
     "grade": false,
     "grade_id": "cell-c37cd26bcf4783d9",
     "locked": true,
     "schema_version": 3,
     "solution": false,
     "task": false
    },
    "tags": []
   },
   "source": [
    "### Q1.2a  Kelvin wave\n",
    "\n",
    "Do as above, but for the Kelvin wave: `Kelvin40.py`.  \n",
    "\n"
   ]
  },
  {
   "cell_type": "code",
   "execution_count": null,
   "id": "8b7c5c75-abc0-4efb-bc3d-781f72c8ad9e",
   "metadata": {
    "deletable": false,
    "nbgrader": {
     "cell_type": "code",
     "checksum": "cd33a3402beb99592066863310abbfbb",
     "grade": true,
     "grade_id": "cell-c1e3195c9950cdd6",
     "locked": false,
     "points": 0,
     "schema_version": 3,
     "solution": true,
     "task": false
    },
    "tags": []
   },
   "outputs": [],
   "source": [
    "# YOUR CODE HERE\n",
    "raise NotImplementedError()"
   ]
  },
  {
   "cell_type": "markdown",
   "id": "9a5deb31-8c4c-4196-a849-5f8fe5622e83",
   "metadata": {
    "deletable": false,
    "nbgrader": {
     "cell_type": "markdown",
     "checksum": "fea4662976056b084d02b09c01a5cb9c",
     "grade": true,
     "grade_id": "cell-2243217db17a6145",
     "locked": false,
     "points": 0,
     "schema_version": 3,
     "solution": true,
     "task": false
    },
    "tags": []
   },
   "source": [
    "YOUR ANSWER HERE"
   ]
  },
  {
   "cell_type": "markdown",
   "id": "27aba733-df58-4961-bfe9-6ddb8916962e",
   "metadata": {
    "deletable": false,
    "editable": false,
    "nbgrader": {
     "cell_type": "markdown",
     "checksum": "731603442a23be0a560ef0152bac6004",
     "grade": false,
     "grade_id": "cell-c8c05f979149bb5b",
     "locked": true,
     "schema_version": 3,
     "solution": false,
     "task": false
    },
    "tags": []
   },
   "source": [
    "### Q1.2b Kelvin wave assumptions:\n",
    "\n",
    "Check the assumptions of Kelvin wave theory.  How large is the along-sidewall velocity versus cross-sidewall?  \n",
    "What happens when the wave reaches a corner?  What is the Rossby radius and how does it compare to the observed signals?"
   ]
  },
  {
   "cell_type": "code",
   "execution_count": null,
   "id": "ba7b16c0-1af5-4adc-8b76-8c5fdf4b8601",
   "metadata": {
    "deletable": false,
    "nbgrader": {
     "cell_type": "code",
     "checksum": "0c8976e919d6c756316b30239c760beb",
     "grade": true,
     "grade_id": "cell-cb07652cf18403f6",
     "locked": false,
     "points": 0,
     "schema_version": 3,
     "solution": true,
     "task": false
    },
    "tags": []
   },
   "outputs": [],
   "source": [
    "# YOUR CODE HERE\n",
    "raise NotImplementedError()"
   ]
  },
  {
   "cell_type": "markdown",
   "id": "4fd2733a-7375-45a9-8c59-6ca3462c7321",
   "metadata": {
    "deletable": false,
    "nbgrader": {
     "cell_type": "markdown",
     "checksum": "cfa967c554b226d1e519965050e887df",
     "grade": true,
     "grade_id": "cell-983af9b295d617d3",
     "locked": false,
     "points": 0,
     "schema_version": 3,
     "solution": true,
     "task": false
    },
    "tags": []
   },
   "source": [
    "YOUR ANSWER HERE"
   ]
  },
  {
   "cell_type": "markdown",
   "id": "2cb4f242-a14a-494e-abb8-fd99a4673408",
   "metadata": {
    "deletable": false,
    "editable": false,
    "nbgrader": {
     "cell_type": "markdown",
     "checksum": "71e2692a0d496141129d68c44aa68e38",
     "grade": false,
     "grade_id": "cell-058d4ddef526ba30",
     "locked": true,
     "schema_version": 3,
     "solution": false,
     "task": false
    },
    "tags": []
   },
   "source": [
    "### Q1.2c geostrophic balance?\n",
    "\n",
    "Calculate the north-south geostrophic flow and compare to the flow in the Kelvin waves in the upper layer.  Comment on any difference."
   ]
  },
  {
   "cell_type": "code",
   "execution_count": null,
   "id": "3c227047-0021-40ca-84df-fae1604d2d5c",
   "metadata": {
    "deletable": false,
    "nbgrader": {
     "cell_type": "code",
     "checksum": "9cbc2573d5911c675e6952cd92ee1598",
     "grade": true,
     "grade_id": "cell-379ff8513e69969a",
     "locked": false,
     "points": 0,
     "schema_version": 3,
     "solution": true,
     "task": false
    },
    "tags": []
   },
   "outputs": [],
   "source": [
    "# YOUR CODE HERE\n",
    "raise NotImplementedError()"
   ]
  },
  {
   "cell_type": "markdown",
   "id": "096bf1ae-0afe-44af-83f9-27d38116cefb",
   "metadata": {
    "deletable": false,
    "nbgrader": {
     "cell_type": "markdown",
     "checksum": "f5aecc9041422966f51c9d1686e15b2d",
     "grade": true,
     "grade_id": "cell-6e4b06093158bad6",
     "locked": false,
     "points": 0,
     "schema_version": 3,
     "solution": true,
     "task": false
    },
    "tags": []
   },
   "source": [
    "YOUR ANSWER HERE"
   ]
  },
  {
   "cell_type": "markdown",
   "id": "85234b18-b13e-45c2-aeb6-2580dc9af6f7",
   "metadata": {
    "deletable": false,
    "editable": false,
    "nbgrader": {
     "cell_type": "markdown",
     "checksum": "3d2ed0264efb7af378502250bae16924",
     "grade": false,
     "grade_id": "cell-f059ec97a4d2effa",
     "locked": true,
     "schema_version": 3,
     "solution": false,
     "task": false
    },
    "tags": []
   },
   "source": [
    "## Q1.2 Rossby waves\n",
    "\n",
    "### Q1.2.1 expected wavelengths\n",
    "\n",
    "We ran three simulations for Rossby waves T=200, 300 and 400 h.  Considering just phase propagation in x, along the center of the model domain, what are the expected x-direction wavelengths?  Recall that the water depth is 2000 m, and that $\\beta = 10^{-11}\\ \\mathrm{m\\,s^{-1}}$.\n"
   ]
  },
  {
   "cell_type": "markdown",
   "id": "df20f1e1-c6ed-499c-a91f-1354192bbf31",
   "metadata": {
    "deletable": false,
    "nbgrader": {
     "cell_type": "markdown",
     "checksum": "eff73237ec8a3f7710eb8f8fd6e52ce7",
     "grade": true,
     "grade_id": "cell-54e857564fcb421e",
     "locked": false,
     "points": 0,
     "schema_version": 3,
     "solution": true,
     "task": false
    },
    "tags": []
   },
   "source": [
    "YOUR ANSWER HERE"
   ]
  },
  {
   "cell_type": "code",
   "execution_count": null,
   "id": "c6ed6fa4-e551-47dc-a310-f56d0b8944a4",
   "metadata": {
    "deletable": false,
    "nbgrader": {
     "cell_type": "code",
     "checksum": "65c1a7ebdb33ed19f1a40e6c49b3fc5d",
     "grade": false,
     "grade_id": "cell-7738dc3d80ce3d80",
     "locked": false,
     "schema_version": 3,
     "solution": true,
     "task": false
    },
    "tags": []
   },
   "outputs": [],
   "source": [
    "# YOUR CODE HERE\n",
    "raise NotImplementedError()"
   ]
  },
  {
   "cell_type": "markdown",
   "id": "5fc0a029-0347-44d4-a147-0f8e77a88feb",
   "metadata": {
    "deletable": false,
    "nbgrader": {
     "cell_type": "markdown",
     "checksum": "c2f66ffc7e1928345161a4d7b3369f55",
     "grade": true,
     "grade_id": "cell-0cc40b93a6c8223a",
     "locked": false,
     "points": 0,
     "schema_version": 3,
     "solution": true,
     "task": false
    },
    "tags": []
   },
   "source": [
    "YOUR ANSWER HERE"
   ]
  },
  {
   "cell_type": "markdown",
   "id": "2a8e356c-bc77-4e80-a567-f854ee42e153",
   "metadata": {
    "deletable": false,
    "editable": false,
    "nbgrader": {
     "cell_type": "markdown",
     "checksum": "9d37dc2dd35a6b193046caf556b3301d",
     "grade": false,
     "grade_id": "cell-2b50e3ba0e2afef7",
     "locked": true,
     "schema_version": 3,
     "solution": false,
     "task": false
    },
    "tags": []
   },
   "source": [
    "### Q1.2.2 Hovmoller diagram\n",
    "\n",
    "Show using a Hovmoller diagram for all three Rossby wave simulations that the shorter wavelengths are close to expected.  Comment on the energy propagating to the left."
   ]
  },
  {
   "cell_type": "code",
   "execution_count": null,
   "id": "86739297-9557-40e9-b8f3-d3647540de04",
   "metadata": {
    "deletable": false,
    "nbgrader": {
     "cell_type": "code",
     "checksum": "3cfc4d5109fb1d84151f1ab1bc51a03c",
     "grade": true,
     "grade_id": "cell-19d05f9a225fa4e7",
     "locked": false,
     "points": 0,
     "schema_version": 3,
     "solution": true,
     "task": false
    },
    "tags": []
   },
   "outputs": [],
   "source": [
    "# YOUR CODE HERE\n",
    "raise NotImplementedError()"
   ]
  },
  {
   "cell_type": "markdown",
   "id": "b7d95f94-9ecc-4d35-84f0-192814412986",
   "metadata": {
    "deletable": false,
    "nbgrader": {
     "cell_type": "markdown",
     "checksum": "2595592ca2b3f6d9af037ecee52b0bfe",
     "grade": true,
     "grade_id": "cell-f2d08ff7d7694c2a",
     "locked": false,
     "points": 0,
     "schema_version": 3,
     "solution": true,
     "task": false
    },
    "tags": []
   },
   "source": [
    "YOUR ANSWER HERE"
   ]
  },
  {
   "cell_type": "markdown",
   "id": "f248dd2f-1190-4c09-ab4c-75d862f5c2e7",
   "metadata": {
    "deletable": false,
    "editable": false,
    "nbgrader": {
     "cell_type": "markdown",
     "checksum": "ef3245a878aa60913f0d6e5f409ec2aa",
     "grade": false,
     "grade_id": "cell-aaa2369308976509",
     "locked": true,
     "schema_version": 3,
     "solution": false,
     "task": false
    },
    "tags": []
   },
   "source": [
    "### Q1.2.3 Group speed\n",
    "\n",
    "Calculate the x-direction group speed for both sets of waves in the 400-h simulation and compare to the simulation's Hovmoller diagram (I did this by just adding to the Hovmoller diagram above and replotting it.\n",
    "\n",
    "From \n",
    "\n",
    "$$ \\omega = -\\beta_0R^2 \\frac{l}{1 + R^2l^2} $$ we can calculate \n",
    "$$c_{gx} = \\frac{d\\omega}{dl} = \\frac{-\\beta_0 R^2 + \\beta_0 R^4 l^2}{(1 + R^2 l^2)^2}$$\n"
   ]
  },
  {
   "cell_type": "code",
   "execution_count": null,
   "id": "58d105d9-7321-47a3-813d-300746c9a4a4",
   "metadata": {
    "deletable": false,
    "nbgrader": {
     "cell_type": "code",
     "checksum": "84aa7ff2b2247e1689d5bd209f8133e3",
     "grade": true,
     "grade_id": "cell-5d0e2365385e3de0",
     "locked": false,
     "points": 0,
     "schema_version": 3,
     "solution": true,
     "task": false
    },
    "tags": []
   },
   "outputs": [],
   "source": [
    "# YOUR CODE HERE\n",
    "raise NotImplementedError()"
   ]
  },
  {
   "cell_type": "markdown",
   "id": "237d2a8b-f158-4b3c-a5ee-e38e976ed103",
   "metadata": {
    "deletable": false,
    "nbgrader": {
     "cell_type": "markdown",
     "checksum": "e410cbe676d7069e57f767e0fc556abf",
     "grade": true,
     "grade_id": "cell-602a4cf6a91b738f",
     "locked": false,
     "points": 0,
     "schema_version": 3,
     "solution": true,
     "task": false
    },
    "tags": []
   },
   "source": [
    "YOUR ANSWER HERE"
   ]
  },
  {
   "cell_type": "markdown",
   "id": "bc03bba4-296e-4740-843a-31b1a5c60918",
   "metadata": {
    "deletable": false,
    "editable": false,
    "nbgrader": {
     "cell_type": "markdown",
     "checksum": "336ed41daeed8626d5dbee8f1842cd47",
     "grade": false,
     "grade_id": "cell-d0eba61771d8d743",
     "locked": true,
     "schema_version": 3,
     "solution": false,
     "task": false
    },
    "tags": []
   },
   "source": [
    "### Q1.2.4 Compare dq/dt to q\n",
    "\n",
    "For `Rossby400.py`, calculate the time derivative of the relative vorticity, and compare to the relative vorticity and argue if this make sense for the direction of propagation of the Rossby wave.  "
   ]
  },
  {
   "cell_type": "code",
   "execution_count": null,
   "id": "cf907a40-21ad-456f-ba8b-86289678e84f",
   "metadata": {
    "deletable": false,
    "nbgrader": {
     "cell_type": "code",
     "checksum": "93ab3ae6f90d7b5e3730244abe88d88c",
     "grade": true,
     "grade_id": "cell-277e6673aa1e6f79",
     "locked": false,
     "points": 0,
     "schema_version": 3,
     "solution": true,
     "task": false
    },
    "tags": []
   },
   "outputs": [],
   "source": [
    "# YOUR CODE HERE\n",
    "raise NotImplementedError()"
   ]
  },
  {
   "cell_type": "markdown",
   "id": "4dbf9414-4da0-41fe-8bbc-a1847af15562",
   "metadata": {
    "deletable": false,
    "nbgrader": {
     "cell_type": "markdown",
     "checksum": "d36f73660541d0acb68df29c61dadefb",
     "grade": true,
     "grade_id": "cell-574ec25df56e8742",
     "locked": false,
     "points": 0,
     "schema_version": 3,
     "solution": true,
     "task": false
    },
    "tags": []
   },
   "source": [
    "YOUR ANSWER HERE"
   ]
  },
  {
   "cell_type": "markdown",
   "id": "5a6b82a9-eb24-4f4e-bc36-7d3637cbe649",
   "metadata": {
    "deletable": false,
    "editable": false,
    "nbgrader": {
     "cell_type": "markdown",
     "checksum": "939e664f1732a5a7a8746bed8272bcf8",
     "grade": false,
     "grade_id": "cell-9dc163ac945ef5fe",
     "locked": true,
     "schema_version": 3,
     "solution": false,
     "task": false
    },
    "tags": []
   },
   "source": [
    "## Q2 Overturning Circulation: Qualitative\n",
    "\n",
    "These simulations take a few hours to run on my machine, and I want you to look at a few, so I'll provide the netcdf files. The simulations are in [Overturning.py](Overturning.py), and then [Hosing.py](Hosing.py) and [StopHosing.py](StopHosing.py).  The files are provided in [OverturningRuns.zip](https://ocean-physics.seos.uvic.ca/~jklymak/Teaching/Eos431/OverturningRuns.zip) (Note 776 Mb!).\n",
    "\n",
    "Physically, the models are solved on a spherical grid so the coordinates are in degrees longitude (`xt`, `xu`) and latitude (`yt`,`yu`).  The \"wedge\" is 48 degrees in longitude, and from the equator to 72 degrees N in latitude.  There are 18 vertical levels used for these simulations, with the vertical grid spacing between the levels exponentially growing from 113 m to 318 m at the seafloor.  \n",
    "\n",
    "All the models use the same external forcing of a sin-wave temperature at the surface, going from 28 degrees at the equator to 4 degress at 72 degrees N.  \n",
    "\n",
    "The models are run with isopycnal lateral diffusion in an attempt to reduce the \"Veronis effect\".  "
   ]
  },
  {
   "cell_type": "markdown",
   "id": "c12b6d86-e776-411f-a37d-c50d62caf0ac",
   "metadata": {
    "deletable": false,
    "editable": false,
    "nbgrader": {
     "cell_type": "markdown",
     "checksum": "c9da3fa7697013b0fa4f5192f787e058",
     "grade": false,
     "grade_id": "cell-d1b3111947f61a28",
     "locked": true,
     "schema_version": 3,
     "solution": false,
     "task": false
    },
    "tags": []
   },
   "source": [
    "### Q2.1 Plot the forcing\n",
    "\n",
    "Plot the surface temperature for `OverturningBeta4e6Coarse.snapshot.nc`.  How close is it to the forcing described above?  "
   ]
  },
  {
   "cell_type": "code",
   "execution_count": null,
   "id": "ef5a2bf0-8799-4ffe-81cd-cddbb478aa6b",
   "metadata": {
    "deletable": false,
    "nbgrader": {
     "cell_type": "code",
     "checksum": "724a7dad3139f3454ca70c8bd676f835",
     "grade": true,
     "grade_id": "cell-3b416b500930063c",
     "locked": false,
     "points": 0,
     "schema_version": 3,
     "solution": true,
     "task": false
    },
    "tags": []
   },
   "outputs": [],
   "source": [
    "# YOUR CODE HERE\n",
    "raise NotImplementedError()"
   ]
  },
  {
   "cell_type": "markdown",
   "id": "da6a75d1-6a04-4544-8b3f-b0b4b286023d",
   "metadata": {
    "deletable": false,
    "nbgrader": {
     "cell_type": "markdown",
     "checksum": "ec49ebab29c4d7fa9e1260c7fb889c75",
     "grade": true,
     "grade_id": "cell-e598739ffe8530cf",
     "locked": false,
     "points": 0,
     "schema_version": 3,
     "solution": true,
     "task": false
    },
    "tags": []
   },
   "source": [
    "YOUR ANSWER HERE"
   ]
  },
  {
   "cell_type": "markdown",
   "id": "2064f5c2-e9f4-4fab-a439-5d67b6d1ba1d",
   "metadata": {
    "deletable": false,
    "editable": false,
    "nbgrader": {
     "cell_type": "markdown",
     "checksum": "db9ddfdf2e284fdc03626bdf4f489f40",
     "grade": false,
     "grade_id": "cell-24d26f239bfb30c3",
     "locked": true,
     "schema_version": 3,
     "solution": false,
     "task": false
    },
    "tags": []
   },
   "source": [
    "### Q2.2 Overturning as a function of mixing strength\n",
    "\n",
    "There are 6 runs, each run at a different value of a constant vertical mixing co-efficient.   \n",
    "\n",
    "\n",
    "| $\\kappa\\ [m^2\\,s^{-1}]$ | Runname |\n",
    "|-------------------:|:-------------------------|\n",
    "| $4\\times10^{-6}$   | OverturningBeta4e6Coarse |\n",
    "| $1 \\times 10^{-5}$ | OverturningBeta1e5Coarse |\n",
    "| $4\\times 10^{-5}$  | OverturningBeta1e5Coarse |\n",
    "| $8\\times 10^{-5}$  | OverturningBeta8e5Coarse |\n",
    "| $1\\times 10^{-4}$  | OverturningBeta10e5Coarse|\n",
    "| $4\\times 10^{-4}$  | OverturningBeta4e4Coarse |"
   ]
  },
  {
   "cell_type": "markdown",
   "id": "26598cd7-d76a-450f-a71b-216f065984a6",
   "metadata": {
    "deletable": false,
    "editable": false,
    "nbgrader": {
     "cell_type": "markdown",
     "checksum": "2bdb499ee6927278244001077e943692",
     "grade": false,
     "grade_id": "cell-3aaf00e0179e9d1d",
     "locked": true,
     "schema_version": 3,
     "solution": false,
     "task": false
    },
    "tags": []
   },
   "source": [
    "Plot the a cross-section at the end of the run from south to north with the mean north-south velocity and temprature contoured for at least three of these runs. Discuss the basic sense of the flow, and the differences observed as the mixing is increased.  "
   ]
  },
  {
   "cell_type": "code",
   "execution_count": null,
   "id": "600a7c4c-75a9-438a-9794-3a42e21e7b78",
   "metadata": {
    "deletable": false,
    "nbgrader": {
     "cell_type": "code",
     "checksum": "779f8664333e127345fa7bd0102c6a37",
     "grade": true,
     "grade_id": "cell-0261ae85799dd256",
     "locked": false,
     "points": 0,
     "schema_version": 3,
     "solution": true,
     "task": false
    },
    "tags": []
   },
   "outputs": [],
   "source": [
    "# YOUR CODE HERE\n",
    "raise NotImplementedError()"
   ]
  },
  {
   "cell_type": "markdown",
   "id": "bde2b65b-ac34-4add-9cad-ad004500ace9",
   "metadata": {
    "deletable": false,
    "nbgrader": {
     "cell_type": "markdown",
     "checksum": "37f4543ada9aabc6c459135db194bc47",
     "grade": true,
     "grade_id": "cell-17ee797070eb3b68",
     "locked": false,
     "points": 0,
     "schema_version": 3,
     "solution": true,
     "task": false
    },
    "tags": []
   },
   "source": [
    "YOUR ANSWER HERE"
   ]
  },
  {
   "cell_type": "markdown",
   "id": "a395aca9-9d7c-494f-8ddd-8106987768a5",
   "metadata": {
    "deletable": false,
    "editable": false,
    "nbgrader": {
     "cell_type": "markdown",
     "checksum": "62842d909dbc6d16b11ef768959ad209",
     "grade": false,
     "grade_id": "cell-43b37b643ffc1e70",
     "locked": true,
     "schema_version": 3,
     "solution": false,
     "task": false
    },
    "tags": []
   },
   "source": [
    "### Q2.3 Overturning as function of time\n",
    "\n",
    "We can calculate the strength of the overturning circulation ourselves. However, this is done so often in physical oceanography that many models have an overturning diagnostic.  \n",
    "\n",
    "Using the files like `OverturningBeta4e6Coarse.overturning.nc`, plot the _minimum_ of the overturning strength _south_ of 60 N (the reuslts are less clear north of 60 N) as a function of time.  The correct field in these files to look at is `vsf_depth`.  \n",
    "\n",
    "How long do these runs take to reach \"steady state\"?  Which runs are the fastest to get to \"steady state\"? "
   ]
  },
  {
   "cell_type": "code",
   "execution_count": null,
   "id": "dca2fa4c-8649-4bdd-bed8-5cca6b802bb6",
   "metadata": {
    "deletable": false,
    "nbgrader": {
     "cell_type": "code",
     "checksum": "0b64ba29b98ebdf5a2e14f842a575ccd",
     "grade": true,
     "grade_id": "cell-42feff21d60492b8",
     "locked": false,
     "points": 0,
     "schema_version": 3,
     "solution": true,
     "task": false
    },
    "tags": []
   },
   "outputs": [],
   "source": [
    "# YOUR CODE HERE\n",
    "raise NotImplementedError()"
   ]
  },
  {
   "cell_type": "markdown",
   "id": "ffffec03-f3ab-4f93-966d-0a180914413e",
   "metadata": {
    "deletable": false,
    "nbgrader": {
     "cell_type": "markdown",
     "checksum": "021b29f0fea8181af29ee3588ac566f4",
     "grade": true,
     "grade_id": "cell-b14965d5ba192887",
     "locked": false,
     "points": 0,
     "schema_version": 3,
     "solution": true,
     "task": false
    },
    "tags": []
   },
   "source": [
    "YOUR ANSWER HERE"
   ]
  },
  {
   "cell_type": "markdown",
   "id": "bf6a31f4-4d16-4696-b72d-9702d9832ec8",
   "metadata": {
    "deletable": false,
    "editable": false,
    "nbgrader": {
     "cell_type": "markdown",
     "checksum": "c9bab0a6d3319d3a2175d28e2d786cdc",
     "grade": false,
     "grade_id": "cell-a61246c71fbdce11",
     "locked": true,
     "schema_version": 3,
     "solution": false,
     "task": false
    },
    "tags": []
   },
   "source": [
    "### Q2.4 Hosing experiment and stop...\n",
    "\n",
    "Thre more runs were made, based on `OverturningBeta4e5Coarse`.  The first was `Hosing`, which adds fresh water north of 50 N.  This is supposed to be like glaciers and sea ice melting.  The rate was approximately 0.1 Sv of fresh water added to the upper ocean.  \n",
    "\n",
    "The next two were `StopHosing` and `StopHosing3`.  These stop the fresh water flux (all the glaciers have melted.  The first stops after 100 years, and the second stops after 300 years.  \n",
    "\n",
    "As above, plot a time series of the strength of the overturning circulation for all 4 of these runs versus time.  I found it really useful to _also_ plot the difference between the minimum and maximum salinities in the model.\n",
    "\n",
    "Describe what happens to the overturning circulation in the three new runs."
   ]
  },
  {
   "cell_type": "code",
   "execution_count": null,
   "id": "ada7472c-068b-4ecc-b10b-6c1cd5751bf9",
   "metadata": {
    "deletable": false,
    "nbgrader": {
     "cell_type": "code",
     "checksum": "ab72682020462c8c6d8a51818b9b9173",
     "grade": true,
     "grade_id": "cell-410a20541c45d17c",
     "locked": false,
     "points": 0,
     "schema_version": 3,
     "solution": true,
     "task": false
    },
    "tags": []
   },
   "outputs": [],
   "source": [
    "# YOUR CODE HERE\n",
    "raise NotImplementedError()"
   ]
  },
  {
   "cell_type": "markdown",
   "id": "048225e3-9139-42f4-9e66-e6c2ac5cf5a4",
   "metadata": {
    "deletable": false,
    "nbgrader": {
     "cell_type": "markdown",
     "checksum": "fe1a5e72ef1f372669c2bdf4cfe07135",
     "grade": true,
     "grade_id": "cell-961b6d4c43717767",
     "locked": false,
     "points": 0,
     "schema_version": 3,
     "solution": true,
     "task": false
    },
    "tags": []
   },
   "source": [
    "YOUR ANSWER HERE"
   ]
  }
 ],
 "metadata": {
  "kernelspec": {
   "display_name": "Python 3 (ipykernel)",
   "language": "python",
   "name": "python3"
  },
  "language_info": {
   "codemirror_mode": {
    "name": "ipython",
    "version": 3
   },
   "file_extension": ".py",
   "mimetype": "text/x-python",
   "name": "python",
   "nbconvert_exporter": "python",
   "pygments_lexer": "ipython3",
   "version": "3.8.17"
  }
 },
 "nbformat": 4,
 "nbformat_minor": 5
}

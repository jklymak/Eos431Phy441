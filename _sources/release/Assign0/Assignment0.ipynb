{
 "cells": [
  {
   "cell_type": "markdown",
   "id": "8ee53acb-fc2f-4061-be8a-8c3d9ecc2380",
   "metadata": {
    "deletable": false,
    "editable": false,
    "nbgrader": {
     "cell_type": "markdown",
     "checksum": "b922082f7c437048ce2216c67c9987d0",
     "grade": false,
     "grade_id": "cell-b82f26056843434c",
     "locked": true,
     "schema_version": 3,
     "solution": false,
     "task": false
    },
    "tags": []
   },
   "source": [
    "(Assignment0)=\n",
    "# Assignment 0: dense flow over an obstacle\n",
    "\n",
    "For this assignment you will run and plot some data from a Veros simulation.  Once you have the model running, please answer the questions below, and hand your Notebook in using Brightspace *as a PDF*.\n",
    "\n",
    "## Run the model\n",
    "\n",
    "The model setup file to use is [./hydraulic.py](./hydraulic.py).  If you have {ref}`set up veros <run_veros>` on your machine and you have activated the environment (`mamba activate eos431`) then you should be able to do:\n",
    "\n",
    "```\n",
    "veros run --force-overwrite hydraulic.py\n",
    "```\n",
    "\n",
    "or, if you managed to get `mpi` to install and your computer has at least 4 cores:\n",
    "\n",
    "```\n",
    "mpirun -np 4 veros run --force-overwrite hydraulic.py -n 4 1\n",
    "```\n",
    "\n",
    "You should see output scroll by like:\n",
    "\n",
    "```\n",
    " Current iteration: 2     (0.00/2.50d |  0.0% | 6.14d/(model year) | 1.0h left)\n",
    " Current iteration: 3     (0.00/2.50d |  0.0% | 4.49d/(model year) | 44.9m left)\n",
    " Current iteration: 4     (0.00/2.50d |  0.0% | 3.67d/(model year) | 36.7m left)\n",
    " Current iteration: 5     (0.00/2.50d |  0.0% | 3.13d/(model year) | 31.3m left)\n",
    "```\n",
    "\n",
    "interspersed with snapshots being written to the netcdf file:\n",
    "\n",
    "```\n",
    " Current iteration: 358   (0.08/2.50d |  3.3% | 1.00d/(model year) | 9.7m left)\n",
    " Current iteration: 359   (0.08/2.50d |  3.3% | 1.00d/(model year) | 9.7m left)\n",
    " Writing snapshot at 2.00 hours\n",
    " Current iteration: 360   (0.08/2.50d |  3.3% | 1.01d/(model year) | 9.7m left)\n",
    " Current iteration: 361   (0.08/2.50d |  3.3% | 1.01d/(model year) | 9.7m left)\n",
    "```\n",
    "\n",
    "A file `hydraulic.snapshot.nc` should be increasing in size while you run this.  \n",
    "\n",
    "Note that depending on the speed of your computer this could take a little while to run - after the first 20 iterations, the \"time left\" indication should be relatively accurate.\n",
    "\n",
    "```{note}\n",
    "Help! my model doesn't run, or is so painfully slow I can't wait for it to complete!  Please contact the instructor, preferably on Brightspace.\n",
    "```\n",
    "\n",
    "## Q1.1\n",
    "\n",
    "Make a plot of the evolution of the flow (u) over time, for at least 2 days (no need to show every time step).  Ideally, contour temperature as well as color velocity (I usually use `pcolormesh`).  Please take some care to center your colormaps, and label the axes properly (though if the axes limits are repeated, you need not label _all_ the axes).  Also use some discretion in choosing the xlimits of your plot.  "
   ]
  },
  {
   "cell_type": "code",
   "execution_count": null,
   "id": "4bb8e568-b56c-43e1-9983-a563126cf835",
   "metadata": {
    "deletable": false,
    "editable": false,
    "nbgrader": {
     "cell_type": "code",
     "checksum": "2c0406f2b47724c863e51613ed8d562b",
     "grade": false,
     "grade_id": "cell-abe4bb0080495009",
     "locked": true,
     "schema_version": 3,
     "solution": false,
     "task": false
    },
    "tags": []
   },
   "outputs": [],
   "source": [
    "import xarray as xr\n",
    "import numpy as np\n",
    "import matplotlib.pyplot as plt"
   ]
  },
  {
   "cell_type": "code",
   "execution_count": null,
   "id": "b38d7a1c-c9d7-48c5-9107-74e41f9d5541",
   "metadata": {
    "deletable": false,
    "editable": false,
    "nbgrader": {
     "cell_type": "code",
     "checksum": "0a6beb19d3eb14518efdaee2473e6c22",
     "grade": false,
     "grade_id": "cell-a71f52438f2530ac",
     "locked": true,
     "schema_version": 3,
     "solution": false,
     "task": false
    },
    "tags": [
     "skip-execution"
    ]
   },
   "outputs": [],
   "source": [
    "# use the matplotlib widget\n",
    "%matplotlib widget"
   ]
  },
  {
   "cell_type": "code",
   "execution_count": null,
   "id": "b7ae078a-478b-4295-8a0e-a0d84c9dc6c1",
   "metadata": {
    "tags": []
   },
   "outputs": [],
   "source": [
    "with xr.open_dataset('hydraulic.snapshot.nc') as ds0:\n",
    "    print(ds0)\n",
    "    print(ds0.xt.mean())\n",
    "\n",
    "    ds0 = ds0.isel(Time=0, yt=1, yu=1)\n",
    "    fig, ax = plt.subplots()\n",
    "    ax.pcolormesh(ds0.xu, ds0.zt, ds0.u)"
   ]
  },
  {
   "cell_type": "code",
   "execution_count": null,
   "id": "74da1630-e629-4fbd-9891-409cfc6ffc1a",
   "metadata": {
    "deletable": false,
    "nbgrader": {
     "cell_type": "code",
     "checksum": "cd33a3402beb99592066863310abbfbb",
     "grade": true,
     "grade_id": "cell-c1e3195c9950cdd6",
     "locked": false,
     "points": 0,
     "schema_version": 3,
     "solution": true,
     "task": false
    },
    "tags": []
   },
   "outputs": [],
   "source": [
    "# YOUR CODE HERE\n",
    "raise NotImplementedError()"
   ]
  },
  {
   "cell_type": "markdown",
   "id": "5ebff6e3-58bd-4f52-bee0-127969bfa05c",
   "metadata": {
    "deletable": false,
    "editable": false,
    "nbgrader": {
     "cell_type": "markdown",
     "checksum": "5220b4020c46d66a5a5afbf930cc2c8e",
     "grade": false,
     "grade_id": "cell-2f3d141562ae0b4b",
     "locked": true,
     "schema_version": 3,
     "solution": false,
     "task": false
    },
    "tags": []
   },
   "source": [
    "## Q1.2 Describe:\n",
    "\n",
    "Describe the flow that is shown in your plot.  \n",
    "\n",
    "- the water is moving.  Why?  \n",
    "- why do you think the shallow layer of water is moving in the negative x direction?\n",
    "- we often discuss flows being in \"steady state\". Does this flow acheive steady state?  If so, where?  \n",
    "- the water flowing in the bottom layer clearly accelerates.  Do you think it transports more water?  "
   ]
  },
  {
   "cell_type": "markdown",
   "id": "dd4b80c6-eee6-429c-b013-d1c69c086e0a",
   "metadata": {
    "deletable": false,
    "nbgrader": {
     "cell_type": "markdown",
     "checksum": "ef6a3209bbc2d36f6ee0bd849308b38b",
     "grade": true,
     "grade_id": "cell-308e958d8fa96636",
     "locked": false,
     "points": 0,
     "schema_version": 3,
     "solution": true,
     "task": false
    },
    "tags": []
   },
   "source": [
    "YOUR ANSWER HERE"
   ]
  },
  {
   "cell_type": "markdown",
   "id": "42af3c88-ddcc-48d0-a3a6-078f9a7078c6",
   "metadata": {
    "deletable": false,
    "editable": false,
    "nbgrader": {
     "cell_type": "markdown",
     "checksum": "4b45785d1f05a2e4a5dca9504783bce5",
     "grade": false,
     "grade_id": "cell-ff2e58834c767e90",
     "locked": true,
     "schema_version": 3,
     "solution": false,
     "task": false
    },
    "tags": []
   },
   "source": [
    "## Q1.3 Hovmoller diagram:\n",
    "\n",
    "If you did the above properly, you selected a given `Time` for each frame.  For ths problem, choose a certain depth, and plot the velocity as function of `xu` on the x axis and `Time` on the y axis.  This is called a [Hovmoller diagram](https://en.wikipedia.org/wiki/Hovmöller_diagram) and is a very useful way to see signals propagating.  Do a couple of interesting depths.\n",
    "\n",
    "```{note} \n",
    "Time in Veros is stored as `np.timedelta64` which is time since the model run started in nanoseconds.  Nanoseconds are pretty useless time unit, so convert to something more convenient (I used hours): `ds0['Time'] = ds0.Time / np.timedelta64(1, 'h')` \n",
    "```"
   ]
  },
  {
   "cell_type": "code",
   "execution_count": null,
   "id": "f1568979-9360-4a31-bf58-7b3fa91af47d",
   "metadata": {
    "deletable": false,
    "nbgrader": {
     "cell_type": "code",
     "checksum": "3323a44c2bf3fea7414aa800d430e096",
     "grade": true,
     "grade_id": "cell-4f79773ea5cc4171",
     "locked": false,
     "points": 0,
     "schema_version": 3,
     "solution": true,
     "task": false
    },
    "tags": []
   },
   "outputs": [],
   "source": [
    "# YOUR CODE HERE\n",
    "raise NotImplementedError()"
   ]
  },
  {
   "cell_type": "markdown",
   "id": "fb3567d9-bda4-4a3e-ab9b-8ae07789f86b",
   "metadata": {
    "deletable": false,
    "editable": false,
    "nbgrader": {
     "cell_type": "markdown",
     "checksum": "88c91bf8e4a0c475745bf63eab4190b6",
     "grade": false,
     "grade_id": "cell-7c5a603f2863ec4b",
     "locked": true,
     "schema_version": 3,
     "solution": false,
     "task": false
    },
    "tags": []
   },
   "source": [
    "## Q1.4 Describe\n",
    "\n",
    "Describe the signals seen in the Hovmoller diagram - refer to the time slice plots to help orient yourself.\n"
   ]
  },
  {
   "cell_type": "markdown",
   "id": "3901e825-d90b-4025-8d2b-4285943c41da",
   "metadata": {
    "deletable": false,
    "nbgrader": {
     "cell_type": "markdown",
     "checksum": "fde64490fa867de441be787c65f00331",
     "grade": true,
     "grade_id": "cell-65792d86e3bc29d4",
     "locked": false,
     "points": 0,
     "schema_version": 3,
     "solution": true,
     "task": false
    },
    "tags": []
   },
   "source": [
    "YOUR ANSWER HERE"
   ]
  }
 ],
 "metadata": {
  "kernelspec": {
   "display_name": "Python 3 (ipykernel)",
   "language": "python",
   "name": "python3"
  },
  "language_info": {
   "codemirror_mode": {
    "name": "ipython",
    "version": 3
   },
   "file_extension": ".py",
   "mimetype": "text/x-python",
   "name": "python",
   "nbconvert_exporter": "python",
   "pygments_lexer": "ipython3",
   "version": "3.8.17"
  },
  "toc-showcode": false
 },
 "nbformat": 4,
 "nbformat_minor": 5
}

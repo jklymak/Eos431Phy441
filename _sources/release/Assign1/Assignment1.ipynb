{
 "cells": [
  {
   "cell_type": "markdown",
   "id": "8ee53acb-fc2f-4061-be8a-8c3d9ecc2380",
   "metadata": {
    "deletable": false,
    "editable": false,
    "nbgrader": {
     "cell_type": "markdown",
     "checksum": "e0b788aca56bfb00f4974bc02a5937b9",
     "grade": false,
     "grade_id": "cell-b82f26056843434c",
     "locked": true,
     "schema_version": 3,
     "solution": false,
     "task": false
    },
    "tags": []
   },
   "source": [
    "(assignment_1)=\n",
    "# Assignment 1: \n",
    "\n",
    "For this assignment you will do quantiative analysis for the flow over an obstacle (see {ref}`Assignment0`), and a qualitative analysis of rotating channel flow.\n",
    "\n",
    "## Q1.1  continuity in a box\n",
    "\n",
    "Using the simulated data set you produced in {ref}`Assignment0`:\n",
    "\n",
    "Consider a single time step in the simulation.  Define a largish box in your model domain with the sides defined at two values of x, and the top defined by one value of z.  The bottom can be defined as the sea floor.  Show that the net flow into the box is close to zero. You can express the flow in terms of $m^2\\,s^{-1}$ or $m^3\\,s^{-1}$, but given that the flow is 2-D $m^2\\,s^{-1}$ probably makes more sense.\n",
    "\n",
    "```{hint}\n",
    "Remember that you can do something like `ds = ds.sel(xt=slice(-50, 50), xu=slice(-50, 50))` to get the data just between -50 and +50 km.  And then repeat for the z direction to define your volume.  Check that your shape is correct by doing something like `display(ds)`.\n",
    "\n",
    "For the vertical direction, w and u are offset from one another, with w on the bottom of the cell, so you want one more zw value than zt value in your final shape.  You can do this using either `sel` or `isel` and taking care with the limits.  For instance I ended up with dimensions `..., zt: 57, zw: 58, ...`.  If you are careful with this, your answer will be closer than if sloppy.  \n",
    "```"
   ]
  },
  {
   "cell_type": "code",
   "execution_count": null,
   "id": "4bb8e568-b56c-43e1-9983-a563126cf835",
   "metadata": {
    "deletable": false,
    "editable": false,
    "nbgrader": {
     "cell_type": "code",
     "checksum": "2c0406f2b47724c863e51613ed8d562b",
     "grade": false,
     "grade_id": "cell-abe4bb0080495009",
     "locked": true,
     "schema_version": 3,
     "solution": false,
     "task": false
    },
    "tags": []
   },
   "outputs": [],
   "source": [
    "import xarray as xr\n",
    "import numpy as np\n",
    "import matplotlib.pyplot as plt"
   ]
  },
  {
   "cell_type": "code",
   "execution_count": null,
   "id": "b38d7a1c-c9d7-48c5-9107-74e41f9d5541",
   "metadata": {
    "deletable": false,
    "editable": false,
    "nbgrader": {
     "cell_type": "code",
     "checksum": "0a6beb19d3eb14518efdaee2473e6c22",
     "grade": false,
     "grade_id": "cell-a71f52438f2530ac",
     "locked": true,
     "schema_version": 3,
     "solution": false,
     "task": false
    },
    "tags": [
     "skip-execution"
    ]
   },
   "outputs": [],
   "source": [
    "# use the matplotlib widget\n",
    "%matplotlib widget"
   ]
  },
  {
   "cell_type": "code",
   "execution_count": null,
   "id": "74da1630-e629-4fbd-9891-409cfc6ffc1a",
   "metadata": {
    "deletable": false,
    "nbgrader": {
     "cell_type": "code",
     "checksum": "cd33a3402beb99592066863310abbfbb",
     "grade": true,
     "grade_id": "cell-c1e3195c9950cdd6",
     "locked": false,
     "points": 0,
     "schema_version": 3,
     "solution": true,
     "task": false
    },
    "tags": []
   },
   "outputs": [],
   "source": [
    "# YOUR CODE HERE\n",
    "raise NotImplementedError()"
   ]
  },
  {
   "cell_type": "markdown",
   "id": "5ebff6e3-58bd-4f52-bee0-127969bfa05c",
   "metadata": {
    "deletable": false,
    "editable": false,
    "nbgrader": {
     "cell_type": "markdown",
     "checksum": "351ddb501414360e2be47b3305c7dcaf",
     "grade": false,
     "grade_id": "cell-2f3d141562ae0b4b",
     "locked": true,
     "schema_version": 3,
     "solution": false,
     "task": false
    },
    "tags": []
   },
   "source": [
    "## Q1.2 Calculate the transport in a \"layer\"\n",
    "\n",
    "Consider all water colder than 12 degrees and plot its transport as a function of x along the channel.  Do this for one time step (though bonus grades for also doing it as a Hovmoller diagram).\n",
    "\n",
    "```{hint}\n",
    "You can make a version of the data set with u=0 for water warmer than 12 degrees by doing `ds['ucold'] = ds.u.where(ds.temp.values<=12, 0)`. The first argument is the condition, the second is the values to fill in `ds.ucold` if the condition is False. Don't forget to use `fillna` to take care of the NaN's in the data...\n",
    "```\n",
    "\n",
    "Discuss your result.  Is the transport constant?  If not, why do you think it is not constant?"
   ]
  },
  {
   "cell_type": "code",
   "execution_count": null,
   "id": "af5d2bf3-5b94-4cf2-a86b-a2164c3d1020",
   "metadata": {
    "deletable": false,
    "nbgrader": {
     "cell_type": "code",
     "checksum": "0451baf98caf2186da60333a6a66cdbf",
     "grade": true,
     "grade_id": "cell-d07a1c4a7a82945e",
     "locked": false,
     "points": 0,
     "schema_version": 3,
     "solution": true,
     "task": false
    },
    "tags": []
   },
   "outputs": [],
   "source": [
    "# YOUR CODE HERE\n",
    "raise NotImplementedError()"
   ]
  },
  {
   "cell_type": "markdown",
   "id": "43e07deb-13da-4889-979e-1103d4adcdce",
   "metadata": {
    "deletable": false,
    "nbgrader": {
     "cell_type": "markdown",
     "checksum": "1531f794e25ac0cb3ca8e591c73f6726",
     "grade": true,
     "grade_id": "cell-4d3ffbbc835a7989",
     "locked": false,
     "points": 0,
     "schema_version": 3,
     "solution": true,
     "task": false
    },
    "tags": []
   },
   "source": [
    "YOUR ANSWER HERE"
   ]
  },
  {
   "cell_type": "markdown",
   "id": "42af3c88-ddcc-48d0-a3a6-078f9a7078c6",
   "metadata": {
    "deletable": false,
    "editable": false,
    "nbgrader": {
     "cell_type": "markdown",
     "checksum": "4667c2fe35bfc4ebd97561dcadddbed7",
     "grade": false,
     "grade_id": "cell-ff2e58834c767e90",
     "locked": true,
     "schema_version": 3,
     "solution": false,
     "task": false
    },
    "tags": []
   },
   "source": [
    "## Q1.3 x-momentum budget (pointwise!)\n",
    "\n",
    "The 2_D x-momentum budget for a non-rotating fluid is: \n",
    "\n",
    "$$ \n",
    "\\frac{\\partial u}{\\partial t} + u\\frac{\\partial u}{\\partial x} + w\\frac{\\partial u}{\\partial z} = - \\frac{1}{\\rho} \\frac{\\partial p}{\\partial x}  + \\nu_z \\frac{\\partial^2 u}{\\partial z^2} + \\nu_x \\frac{\\partial^2 u}{\\partial x^2}\n",
    "$$\n",
    "\n",
    "In the model, $P$ is given by `ds.p_hydro + ds.psi`.  The vertical viscosity is $\\nu_z=4\\times10^{-4} \\ \\mathrm{m^2\\,s^{-1}}$ and the horizontal is \n",
    "$\\nu_x = 10\\ \\mathrm{m^2\\,s^{-1}}$.\n",
    "\n",
    "```{note}\n",
    "In the real world viscosity doesn't depend on the direction.  In the model, the viscosity parameterizes unresolved turbulence.  Given that the horizontal scales are much larger than the vertical, the model works better if the horizontal viscsity is larger than the vertical.\n",
    "```\n",
    "\n",
    "For one timestep, calculate these terms at each point in the model and compare."
   ]
  },
  {
   "cell_type": "code",
   "execution_count": null,
   "id": "f1568979-9360-4a31-bf58-7b3fa91af47d",
   "metadata": {
    "deletable": false,
    "nbgrader": {
     "cell_type": "code",
     "checksum": "3323a44c2bf3fea7414aa800d430e096",
     "grade": true,
     "grade_id": "cell-4f79773ea5cc4171",
     "locked": false,
     "points": 0,
     "schema_version": 3,
     "solution": true,
     "task": false
    },
    "tags": []
   },
   "outputs": [],
   "source": [
    "# YOUR CODE HERE\n",
    "raise NotImplementedError()"
   ]
  },
  {
   "cell_type": "markdown",
   "id": "fb3567d9-bda4-4a3e-ab9b-8ae07789f86b",
   "metadata": {
    "deletable": false,
    "editable": false,
    "nbgrader": {
     "cell_type": "markdown",
     "checksum": "bb8f89a5bf2af25ced29f05483ca59da",
     "grade": false,
     "grade_id": "cell-7c5a603f2863ec4b",
     "locked": true,
     "schema_version": 3,
     "solution": false,
     "task": false
    },
    "tags": []
   },
   "source": [
    "## Q1.4 Describe\n",
    "\n",
    "Describe the breakdown of terms in the x-momentum budget.  Focus in particular over obstacle, though the unsteady behaviour far from the obstacle is useful to think about as well.  \n",
    "- Where is the flow almost in \"steady state\"? \n",
    "- What are the dominant terms in the momentum budget?  Write out an approximate balance that would explain most of the balance.\n",
    "- Are the left- and right-hand terms _exactly_ in balance.  Any ideas why they are or are not.\n",
    "- Explain the sense of the the largest terms in terms of the structure of the flow (eg does the structure of the terms make sense with respect to the flow?)."
   ]
  },
  {
   "cell_type": "markdown",
   "id": "3901e825-d90b-4025-8d2b-4285943c41da",
   "metadata": {
    "deletable": false,
    "nbgrader": {
     "cell_type": "markdown",
     "checksum": "fde64490fa867de441be787c65f00331",
     "grade": true,
     "grade_id": "cell-65792d86e3bc29d4",
     "locked": false,
     "points": 0,
     "schema_version": 3,
     "solution": true,
     "task": false
    },
    "tags": []
   },
   "source": [
    "YOUR ANSWER HERE"
   ]
  },
  {
   "cell_type": "markdown",
   "id": "4a4f4b40-8e81-4a77-a599-b0908cdd6f49",
   "metadata": {
    "deletable": false,
    "editable": false,
    "nbgrader": {
     "cell_type": "markdown",
     "checksum": "d311d297dadcba39e1d7ec9139cea25f",
     "grade": false,
     "grade_id": "cell-f941d5129dc67e32",
     "locked": true,
     "schema_version": 3,
     "solution": false,
     "task": false
    },
    "tags": []
   },
   "source": [
    "## Q1.5 Internal versus external pressure\n",
    "\n",
    "Similar to the above, compare the external pressure due to surface tilt (`psi`) to the internal pressure (`p_hydro`) at a given depth, preferably one that goes through the overflowing water.  \n",
    "\n",
    "First, make a Hovmoller diagram of the surface pressure.  Try and describe what you see - any idea what causes this?"
   ]
  },
  {
   "cell_type": "code",
   "execution_count": null,
   "id": "84aeb164-05aa-463b-9e9a-8b2b8896177b",
   "metadata": {
    "deletable": false,
    "nbgrader": {
     "cell_type": "code",
     "checksum": "103fc113f4e4741da2e74bb9db1b16ff",
     "grade": true,
     "grade_id": "cell-b84dec4329fa6692",
     "locked": false,
     "points": 0,
     "schema_version": 3,
     "solution": true,
     "task": false
    },
    "tags": []
   },
   "outputs": [],
   "source": [
    "# YOUR CODE HERE\n",
    "raise NotImplementedError()"
   ]
  },
  {
   "cell_type": "markdown",
   "id": "496fe982-6a94-4117-86a4-460fbf0fe37f",
   "metadata": {
    "deletable": false,
    "nbgrader": {
     "cell_type": "markdown",
     "checksum": "98ea775d43c3646ba49ee200e4c022aa",
     "grade": true,
     "grade_id": "cell-db443e02e7d26bdf",
     "locked": false,
     "points": 0,
     "schema_version": 3,
     "solution": true,
     "task": false
    },
    "tags": []
   },
   "source": [
    "YOUR ANSWER HERE"
   ]
  },
  {
   "cell_type": "markdown",
   "id": "3d2f2402-50f0-4662-9fc7-3c92408dec54",
   "metadata": {
    "deletable": false,
    "editable": false,
    "nbgrader": {
     "cell_type": "markdown",
     "checksum": "1a1b6a358ab0b3190437ecc83d76bffd",
     "grade": false,
     "grade_id": "cell-a0c2a109dbf929a1",
     "locked": true,
     "schema_version": 3,
     "solution": false,
     "task": false
    },
    "tags": []
   },
   "source": [
    "### Q1.5 continued\n",
    "\n",
    "We need to do some smoothing to try and ignore the effect shown above, so average the data by 4 or 6 timesteps.  Then compare the internal to the surface pressure gradient at a depth that includes the overflow.\n",
    "\n",
    "Compare and contrast the two pressure signals.  Does the pressure gradients make sense with respect to the direction that water flows?  How many centimeters of surface defelection would you expect to see for the given external pressure gradient?"
   ]
  },
  {
   "cell_type": "code",
   "execution_count": null,
   "id": "80fbf187-6d8a-4cc8-8027-34438028ffde",
   "metadata": {
    "deletable": false,
    "nbgrader": {
     "cell_type": "code",
     "checksum": "4b31abfe7662173f8f09434391718708",
     "grade": true,
     "grade_id": "cell-cb762868b5d43812",
     "locked": false,
     "points": 0,
     "schema_version": 3,
     "solution": true,
     "task": false
    },
    "tags": []
   },
   "outputs": [],
   "source": [
    "# YOUR CODE HERE\n",
    "raise NotImplementedError()"
   ]
  },
  {
   "cell_type": "markdown",
   "id": "cc285292-775f-41cc-bb9c-5ee4972ac346",
   "metadata": {
    "deletable": false,
    "nbgrader": {
     "cell_type": "markdown",
     "checksum": "3fb95bd1dbadfb5287f71e65580af266",
     "grade": true,
     "grade_id": "cell-9ac1d8a515e9ecde",
     "locked": false,
     "points": 0,
     "schema_version": 3,
     "solution": true,
     "task": false
    },
    "tags": []
   },
   "source": [
    "YOUR ANSWER HERE"
   ]
  },
  {
   "cell_type": "markdown",
   "id": "28bbcc58-9505-4ab9-95f4-2e57de606097",
   "metadata": {
    "deletable": false,
    "editable": false,
    "nbgrader": {
     "cell_type": "markdown",
     "checksum": "f2ea753683442b455031ae9bcd71ef13",
     "grade": false,
     "grade_id": "cell-527fa7f62c6f6986",
     "locked": true,
     "schema_version": 3,
     "solution": false,
     "task": false
    },
    "tags": []
   },
   "source": [
    "## Q2: Channel flow Qualitative\n",
    "\n",
    "In this simulation, we have a 50-m deep channel with quite steep sides 20 km apart in the y-direction.  The flow starts at rest when a wind stress of $\\tau=0.2\\,\\mathrm{N\\,m^{-2}}$ is applied in the positive x direction at time = 0.  This is called a spin-up problem.  We will do two simulations, one with rotation $f=10^{-4}\\ \\mathrm{rad\\, s^{-1}}$ and the other without.\n",
    "\n",
    "Note that this problem has no variability in the x direction (though there is definitely x-direction velocities!), so we don't use much resolution in the x direction.\n",
    "\n",
    "Run `channelnof.py` and `channelfplane.py` and plot the outputs:\n",
    "\n",
    "- plot some represntative time steps of the channel crosssections (y versus z) for each run.\n",
    "- choose a time step at the end of the simulation and one location and plot u on the x-axis and v on the y-axis with a dot for each depth.  This is called a \"hodogram\".\n",
    "- what are the differences between the solution with rotation ansd the solution without rotation?"
   ]
  },
  {
   "cell_type": "code",
   "execution_count": null,
   "id": "f594db18-00d0-458a-acf7-9dde8a6c0cba",
   "metadata": {
    "deletable": false,
    "nbgrader": {
     "cell_type": "code",
     "checksum": "bc17c548b1181472ae96998d7c96cf24",
     "grade": true,
     "grade_id": "cell-60a9b6cfc87fdd3f",
     "locked": false,
     "points": 0,
     "schema_version": 3,
     "solution": true,
     "task": false
    },
    "tags": []
   },
   "outputs": [],
   "source": [
    "# YOUR CODE HERE\n",
    "raise NotImplementedError()"
   ]
  },
  {
   "cell_type": "code",
   "execution_count": null,
   "id": "f07530f7-954f-4622-a9e5-87c4de5b4e6c",
   "metadata": {
    "deletable": false,
    "nbgrader": {
     "cell_type": "code",
     "checksum": "907486410e7779ec14e2b09083ed0caf",
     "grade": true,
     "grade_id": "cell-8b7fe94d9e3487a4",
     "locked": false,
     "points": 0,
     "schema_version": 3,
     "solution": true,
     "task": false
    },
    "tags": []
   },
   "outputs": [],
   "source": [
    "# YOUR CODE HERE\n",
    "raise NotImplementedError()"
   ]
  },
  {
   "cell_type": "markdown",
   "id": "ff224485-dcf9-44d9-9427-fb8a472e3c8e",
   "metadata": {
    "deletable": false,
    "nbgrader": {
     "cell_type": "markdown",
     "checksum": "62a675cfaee08208e8af0a158cc72e93",
     "grade": true,
     "grade_id": "cell-37c830e64c69f152",
     "locked": false,
     "points": 0,
     "schema_version": 3,
     "solution": true,
     "task": false
    },
    "tags": []
   },
   "source": [
    "YOUR ANSWER HERE"
   ]
  },
  {
   "cell_type": "code",
   "execution_count": null,
   "id": "c21962f7-226a-4b21-8a14-a23baf1db050",
   "metadata": {},
   "outputs": [],
   "source": []
  }
 ],
 "metadata": {
  "kernelspec": {
   "display_name": "Python 3 (ipykernel)",
   "language": "python",
   "name": "python3"
  },
  "language_info": {
   "codemirror_mode": {
    "name": "ipython",
    "version": 3
   },
   "file_extension": ".py",
   "mimetype": "text/x-python",
   "name": "python",
   "nbconvert_exporter": "python",
   "pygments_lexer": "ipython3",
   "version": "3.8.17"
  }
 },
 "nbformat": 4,
 "nbformat_minor": 5
}

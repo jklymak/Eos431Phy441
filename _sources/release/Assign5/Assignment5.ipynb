{
 "cells": [
  {
   "cell_type": "markdown",
   "id": "d86f61ed-121c-403a-87dc-01100d36df5d",
   "metadata": {
    "deletable": false,
    "editable": false,
    "nbgrader": {
     "cell_type": "markdown",
     "checksum": "0442119ce38ae08a1d4727948bdae056",
     "grade": false,
     "grade_id": "cell-e51a19a51d60d932",
     "locked": true,
     "schema_version": 3,
     "solution": false,
     "task": false
    },
    "tags": []
   },
   "source": [
    "(assignment_5)=\n",
    "\n",
    "# Assignment 5: Global overturning circulation\n"
   ]
  },
  {
   "cell_type": "code",
   "execution_count": null,
   "id": "3caf3e00-2f0c-42e9-938d-40e8e5676cb7",
   "metadata": {
    "deletable": false,
    "editable": false,
    "nbgrader": {
     "cell_type": "code",
     "checksum": "4ffadf1a054e1a6a211482cc8aca3088",
     "grade": false,
     "grade_id": "cell-a9175bcb7cb0f26e",
     "locked": true,
     "schema_version": 3,
     "solution": false,
     "task": false
    },
    "tags": []
   },
   "outputs": [],
   "source": [
    "import xarray as xr\n",
    "import numpy as np\n",
    "import matplotlib.pyplot as plt\n",
    "\n",
    "def subplots_shared(n, m, sharex=True, sharey=True, layout='constrained', figsize=None):\n",
    "    return plt.subplots(n, m, sharex=sharex, sharey=sharey, layout=layout, figsize=figsize)\n",
    "\n",
    "def pcolormesh_sym(x, y, z, vbound, ax=None, cmap='RdBu_r'):\n",
    "    if ax is None:\n",
    "        ax = plt.gca()\n",
    "    return ax.pcolormesh(x, y, z, vmin=-vbound, vmax=vbound, cmap=cmap, rasterized=True)\n",
    "\n",
    "def tohours(Time):\n",
    "    return Time.values.astype('float') / 1e9 /3600\n",
    "\n"
   ]
  },
  {
   "cell_type": "code",
   "execution_count": null,
   "id": "006034c7-fb06-42c1-91f9-db3a16677338",
   "metadata": {
    "deletable": false,
    "editable": false,
    "nbgrader": {
     "cell_type": "code",
     "checksum": "e4cdf36158a79a9a1db30001591989eb",
     "grade": false,
     "grade_id": "cell-5a349e4eb3bb133b",
     "locked": true,
     "schema_version": 3,
     "solution": false,
     "task": false
    },
    "tags": []
   },
   "outputs": [],
   "source": [
    "%matplotlib widget"
   ]
  },
  {
   "cell_type": "markdown",
   "id": "91c48666-6423-45c7-9423-562943541368",
   "metadata": {
    "deletable": false,
    "editable": false,
    "nbgrader": {
     "cell_type": "markdown",
     "checksum": "bbd7eb437f97f3109b243f64e5faf49e",
     "grade": false,
     "grade_id": "cell-289e16ebee0facb4",
     "locked": true,
     "schema_version": 3,
     "solution": false,
     "task": false
    },
    "tags": []
   },
   "source": [
    "## Q1.1 Investigate the structure of the deep water circulation\n",
    "\n",
    "### Q1.1.1 Plot a cross section of north/south velocity\n",
    "\n",
    "Plot an east-west section of north-south velocity in one of the runs (I used `OverturningBeta10e5Coarse.snapshot.nc`) close to the middle of the basin (say 30 or 40 N).  Comment on the flow patterns, both in the veritcal and across the basin.  \n"
   ]
  },
  {
   "cell_type": "code",
   "execution_count": null,
   "id": "a8b316b1-e75c-485a-8d3a-8235652dab66",
   "metadata": {
    "deletable": false,
    "nbgrader": {
     "cell_type": "code",
     "checksum": "b350593805db12aed6b21e82f57fa616",
     "grade": true,
     "grade_id": "cell-3ca057f8f17f663c",
     "locked": false,
     "points": 0,
     "schema_version": 3,
     "solution": true,
     "task": false
    },
    "tags": []
   },
   "outputs": [],
   "source": [
    "# YOUR CODE HERE\n",
    "raise NotImplementedError()"
   ]
  },
  {
   "cell_type": "markdown",
   "id": "2322cf82-eda6-474f-88e6-7ec7087c3fa2",
   "metadata": {
    "deletable": false,
    "nbgrader": {
     "cell_type": "markdown",
     "checksum": "f2560a7e9c92c82c1dc1e1aab893d1e3",
     "grade": true,
     "grade_id": "cell-2ebaa020737f88ac",
     "locked": false,
     "points": 0,
     "schema_version": 3,
     "solution": true,
     "task": false
    },
    "tags": []
   },
   "source": [
    "YOUR ANSWER HERE"
   ]
  },
  {
   "cell_type": "markdown",
   "id": "579b4ac3-d413-4d8b-a766-bde3d59a755d",
   "metadata": {
    "deletable": false,
    "editable": false,
    "nbgrader": {
     "cell_type": "markdown",
     "checksum": "80ba2c0d0d5d44bff54322d140b7ad3b",
     "grade": false,
     "grade_id": "cell-8f28f3fd792711ed",
     "locked": true,
     "schema_version": 3,
     "solution": false,
     "task": false
    },
    "tags": []
   },
   "source": [
    "## Q1.1.2 Quantify the north-south transport\n",
    "\n",
    "For the whole basin, consider the deeper layer you identified above and calculate the vertically integrated north south transport, per degree of longitude, in the basin and plot.  Do the same for the east-west transport, and comment on the structures."
   ]
  },
  {
   "cell_type": "code",
   "execution_count": null,
   "id": "f3beb0ea-27aa-4a86-a5de-d59e878baff1",
   "metadata": {
    "deletable": false,
    "nbgrader": {
     "cell_type": "code",
     "checksum": "a2f94c34126153d2e4c84c605e830842",
     "grade": true,
     "grade_id": "cell-2b9e03bab056d00e",
     "locked": false,
     "points": 0,
     "schema_version": 3,
     "solution": true,
     "task": false
    },
    "tags": []
   },
   "outputs": [],
   "source": [
    "# YOUR CODE HERE\n",
    "raise NotImplementedError()"
   ]
  },
  {
   "cell_type": "markdown",
   "id": "2f087d5c-3057-4342-9dcf-402c26cc98b5",
   "metadata": {
    "deletable": false,
    "nbgrader": {
     "cell_type": "markdown",
     "checksum": "270166c04506ac0d09a5eac022a33899",
     "grade": true,
     "grade_id": "cell-7121d3a88110083b",
     "locked": false,
     "points": 0,
     "schema_version": 3,
     "solution": true,
     "task": false
    },
    "tags": []
   },
   "source": [
    "YOUR ANSWER HERE"
   ]
  },
  {
   "cell_type": "markdown",
   "id": "1988608c-b1ec-4d2e-9aa1-0b8a6afcbe54",
   "metadata": {
    "deletable": false,
    "editable": false,
    "nbgrader": {
     "cell_type": "markdown",
     "checksum": "445365e0cd99bd1289ad4a3e1de09f60",
     "grade": false,
     "grade_id": "cell-bb3f03fae22c6eea",
     "locked": true,
     "schema_version": 3,
     "solution": false,
     "task": false
    },
    "tags": []
   },
   "source": [
    "## Q1.1.3 Plot w\n",
    "\n",
    "Plot w at the top of the volume you considered in the previous question and discuss if the Stomel-Arons assumption of uniform w is applicable."
   ]
  },
  {
   "cell_type": "code",
   "execution_count": null,
   "id": "72ebd87c-4b6f-42c5-9d65-08ccc31f130b",
   "metadata": {
    "deletable": false,
    "nbgrader": {
     "cell_type": "code",
     "checksum": "214a79a7d76174ea250429bbebc7035a",
     "grade": true,
     "grade_id": "cell-4bb7701fb85ee315",
     "locked": false,
     "points": 0,
     "schema_version": 3,
     "solution": true,
     "task": false
    },
    "tags": []
   },
   "outputs": [],
   "source": [
    "# YOUR CODE HERE\n",
    "raise NotImplementedError()"
   ]
  },
  {
   "cell_type": "markdown",
   "id": "ce240bb4-48f5-40f4-b505-0594b2f06c10",
   "metadata": {
    "deletable": false,
    "nbgrader": {
     "cell_type": "markdown",
     "checksum": "6233191cd78cdbfc336107c29fe66516",
     "grade": true,
     "grade_id": "cell-e680f5622e663934",
     "locked": false,
     "points": 0,
     "schema_version": 3,
     "solution": true,
     "task": false
    },
    "tags": []
   },
   "source": [
    "YOUR ANSWER HERE"
   ]
  },
  {
   "cell_type": "markdown",
   "id": "e9dccb5e-98ab-48d6-b22d-c809c946c935",
   "metadata": {
    "deletable": false,
    "editable": false,
    "nbgrader": {
     "cell_type": "markdown",
     "checksum": "7b268c855eb7f85bdffe1a2fd2655ef7",
     "grade": false,
     "grade_id": "cell-b44a9176c7b2f3f2",
     "locked": true,
     "schema_version": 3,
     "solution": false,
     "task": false
    }
   },
   "source": [
    "## Q1.1.4 Transport as function of latitude\n",
    "\n",
    "Choose a central latitude, and plot the total transport in the deep layer as a function of longitude.  Comment on the net transport across this section compared to the peak transport in the section, with reference to the expectations from the Stomel-Arons theory.\n"
   ]
  },
  {
   "cell_type": "code",
   "execution_count": null,
   "id": "173ab58d-552e-4525-aeb3-46a27d0fc9a3",
   "metadata": {
    "deletable": false,
    "nbgrader": {
     "cell_type": "code",
     "checksum": "883370a1eeda51735070496427ab9c9f",
     "grade": true,
     "grade_id": "cell-74c05f92b3afb76e",
     "locked": false,
     "points": 0,
     "schema_version": 3,
     "solution": true,
     "task": false
    },
    "tags": []
   },
   "outputs": [],
   "source": [
    "# YOUR CODE HERE\n",
    "raise NotImplementedError()"
   ]
  },
  {
   "cell_type": "markdown",
   "id": "32b8140e-21dd-4394-8f46-c93a65a8fe1d",
   "metadata": {
    "deletable": false,
    "nbgrader": {
     "cell_type": "markdown",
     "checksum": "67b082c75e95b54f50db45ccec5f5c6e",
     "grade": true,
     "grade_id": "cell-4b5b56ccf8fc45e0",
     "locked": false,
     "points": 0,
     "schema_version": 3,
     "solution": true,
     "task": false
    },
    "tags": []
   },
   "source": [
    "YOUR ANSWER HERE"
   ]
  },
  {
   "cell_type": "markdown",
   "id": "8c3a1b9b-e981-4010-943d-2589a8f927e5",
   "metadata": {
    "deletable": false,
    "editable": false,
    "nbgrader": {
     "cell_type": "markdown",
     "checksum": "9c4ed73db8958e4ff2521c6fea393da1",
     "grade": false,
     "grade_id": "cell-d8906aa442430299",
     "locked": true,
     "schema_version": 3,
     "solution": false,
     "task": false
    },
    "tags": []
   },
   "source": [
    "# Q1.2 Available potential energy\n",
    "\n",
    "Lets examine the _idea_ of available potential energy in these simulations.  We won't properly calculate available potential energy because that is quite difficult in the spehrical geometry we ran these simulations with.  Instead, lets take one central longitude, and pretend that the longitude dimension has the same `dx` for each latitude (as opposed to in the actual spherical geometry, where dx gets narrower to the north).  \n",
    "\n",
    "# Q1.2.1 Calculate the background potential energy\n",
    "\n",
    "for each of \n",
    "\n",
    "```\n",
    "todo = ['../Assign4/OverturningBeta4e6Coarse.snapshot.nc', \n",
    "        '../Assign4/OverturningBeta1e5Coarse.snapshot.nc', \n",
    "        '../Assign4/OverturningBeta4e5Coarse.snapshot.nc',\n",
    "        '../Assign4/OverturningBeta8e5Coarse.snapshot.nc',\n",
    "        '../Assign4/OverturningBeta10e5Coarse.snapshot.nc',\n",
    "        '../Assign4/OverturningBeta4e4Coarse.snapshot.nc']\n",
    "```\n",
    "\n",
    "calculate a sorted version of the density (`ds.prho`) in a section at the central latitude, with the densest water at the bottom and lightest water at the surface.  \n",
    "\n",
    "This is a bit tricky, because the depth bins are not even!  So first I selected my time and values of `xt` and made a new data slice interpolated onto a new grid:\n",
    "\n",
    "```\n",
    "dsnew = ds.sel(zt=np.arange(-4000, 0, 20), method='nearest')\n",
    "```\n",
    "\n",
    "Then I used `np.sort` and `np.reshape` to make a new `prho0`.\n",
    "\n",
    "To show that you did this properly, contour `prho` and `prho0` for one of the simulations, using the same density contours.\n"
   ]
  },
  {
   "cell_type": "code",
   "execution_count": null,
   "id": "089fef94-f0ec-4d15-9c78-9ea942c6f147",
   "metadata": {
    "deletable": false,
    "nbgrader": {
     "cell_type": "code",
     "checksum": "92802811867b7dfa75f238dcaa30e646",
     "grade": true,
     "grade_id": "cell-b75a7dcd50d61bce",
     "locked": false,
     "points": 0,
     "schema_version": 3,
     "solution": true,
     "task": false
    },
    "tags": []
   },
   "outputs": [],
   "source": [
    "# YOUR CODE HERE\n",
    "raise NotImplementedError()"
   ]
  },
  {
   "cell_type": "markdown",
   "id": "bdfb3a7c-3da0-42d9-830b-d61eab59cf6d",
   "metadata": {
    "deletable": false,
    "nbgrader": {
     "cell_type": "markdown",
     "checksum": "85aedfb62168384e9f9a532d4c791100",
     "grade": true,
     "grade_id": "cell-91101e2924927cd0",
     "locked": false,
     "points": 0,
     "schema_version": 3,
     "solution": true,
     "task": false
    },
    "tags": []
   },
   "source": [
    "YOUR ANSWER HERE"
   ]
  },
  {
   "cell_type": "markdown",
   "id": "04e271d7-4661-4946-b6fb-cbc1f1807049",
   "metadata": {
    "deletable": false,
    "editable": false,
    "nbgrader": {
     "cell_type": "markdown",
     "checksum": "be254b672ada0954e0f51627c35bb366",
     "grade": false,
     "grade_id": "cell-1ae79dfd729cbbf9",
     "locked": true,
     "schema_version": 3,
     "solution": false,
     "task": false
    },
    "tags": []
   },
   "source": [
    "## Q1.2.2 Calculate the Available Potential Energy \n",
    "\n",
    "Calculate the PE of the background state and the actual state and calculate the APE for each of the simulations.  Make a log-log plot of K versus Background potential energy and a second of K versus APE.  Note that BPE can be negative, depending on what reference z you choose, so try adding an offset to z to make the BPE positive.  Note that APE should _not_ be affected by your choice of the z offset (and indeed changing the offset is a very useful way to demonstrate that you did the calculation correctly).  Express your ponential energy in units of J/m.  \n",
    "\n",
    "Comment on the trend in background potential energy as a function of K, and the available potential energy as functions of K. "
   ]
  },
  {
   "cell_type": "code",
   "execution_count": null,
   "id": "2eb131dd-2c95-44d1-a021-a9d0d739b0be",
   "metadata": {
    "deletable": false,
    "nbgrader": {
     "cell_type": "code",
     "checksum": "ad2b919cd17bbaca6e48d0797afc2764",
     "grade": true,
     "grade_id": "cell-32895f716f626d12",
     "locked": false,
     "points": 0,
     "schema_version": 3,
     "solution": true,
     "task": false
    },
    "tags": []
   },
   "outputs": [],
   "source": [
    "# YOUR CODE HERE\n",
    "raise NotImplementedError()"
   ]
  },
  {
   "cell_type": "code",
   "execution_count": null,
   "id": "3a6a602e-29a4-4c6d-8b63-a73073c9f35c",
   "metadata": {
    "deletable": false,
    "nbgrader": {
     "cell_type": "code",
     "checksum": "c6a01a89d8d9c8ba987e758638a41fe6",
     "grade": true,
     "grade_id": "cell-3079287bfb00269d",
     "locked": false,
     "points": 0,
     "schema_version": 3,
     "solution": true,
     "task": false
    },
    "tags": []
   },
   "outputs": [],
   "source": [
    "# YOUR CODE HERE\n",
    "raise NotImplementedError()"
   ]
  },
  {
   "cell_type": "markdown",
   "id": "c7590c21-caed-4660-acc1-aa4dc89d3fc9",
   "metadata": {
    "deletable": false,
    "nbgrader": {
     "cell_type": "markdown",
     "checksum": "19047743449086a3ed94a2eff5d539b8",
     "grade": true,
     "grade_id": "cell-6511edba38e17ded",
     "locked": false,
     "points": 0,
     "schema_version": 3,
     "solution": true,
     "task": false
    },
    "tags": []
   },
   "source": [
    "YOUR ANSWER HERE"
   ]
  }
 ],
 "metadata": {
  "kernelspec": {
   "display_name": "Python 3 (ipykernel)",
   "language": "python",
   "name": "python3"
  },
  "language_info": {
   "codemirror_mode": {
    "name": "ipython",
    "version": 3
   },
   "file_extension": ".py",
   "mimetype": "text/x-python",
   "name": "python",
   "nbconvert_exporter": "python",
   "pygments_lexer": "ipython3",
   "version": "3.8.17"
  }
 },
 "nbformat": 4,
 "nbformat_minor": 5
}

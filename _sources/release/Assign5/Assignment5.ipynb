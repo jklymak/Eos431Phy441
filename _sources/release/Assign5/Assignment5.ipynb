{
 "cells": [
  {
   "cell_type": "markdown",
   "id": "d86f61ed-121c-403a-87dc-01100d36df5d",
   "metadata": {},
   "source": [
    "(assignment_5)=\n",
    "\n",
    "# Assignment 5: Global overturning circulation\n"
   ]
  },
  {
   "cell_type": "code",
   "execution_count": null,
   "id": "3caf3e00-2f0c-42e9-938d-40e8e5676cb7",
   "metadata": {
    "tags": []
   },
   "outputs": [],
   "source": [
    "import xarray as xr\n",
    "import numpy as np\n",
    "import matplotlib.pyplot as plt\n",
    "\n",
    "def subplots_shared(n, m, sharex=True, sharey=True, layout='constrained', figsize=None):\n",
    "    return plt.subplots(n, m, sharex=sharex, sharey=sharey, layout=layout, figsize=figsize)\n",
    "\n",
    "def pcolormesh_sym(x, y, z, vbound, ax=None, cmap='RdBu_r'):\n",
    "    if ax is None:\n",
    "        ax = plt.gca()\n",
    "    return ax.pcolormesh(x, y, z, vmin=-vbound, vmax=vbound, cmap=cmap, rasterized=True)\n",
    "\n",
    "def tohours(Time):\n",
    "    return Time.values.astype('float') / 1e9 /3600\n",
    "\n"
   ]
  },
  {
   "cell_type": "code",
   "execution_count": null,
   "id": "006034c7-fb06-42c1-91f9-db3a16677338",
   "metadata": {
    "tags": []
   },
   "outputs": [],
   "source": [
    "%matplotlib widget"
   ]
  },
  {
   "cell_type": "markdown",
   "id": "91c48666-6423-45c7-9423-562943541368",
   "metadata": {},
   "source": [
    "## Q1.1 Investigate the structure of the deep water circulation\n",
    "\n",
    "### Q1.1.1 Plot a cross section of north/south velocity\n",
    "\n",
    "Plot an east-west section of north-south velocity in one of the runs (I used `OverturningBeta10e5Coarse.snapshot.nc`) close to the middle of the basin (say 30 or 40 N).  Comment on the flow patterns, both in the veritcal and across the basin.  \n"
   ]
  },
  {
   "cell_type": "code",
   "execution_count": null,
   "id": "a8b316b1-e75c-485a-8d3a-8235652dab66",
   "metadata": {
    "tags": []
   },
   "outputs": [],
   "source": [
    "with xr.open_dataset('../Assign4/OverturningBeta10e5Coarse.snapshot.nc') as ds:\n",
    "    lat0 = 30.0\n",
    "    ds = ds.isel(Time=-1).sel(yt=lat0, yu=lat0, method='nearest')\n",
    "    fig, axs = plt.subplots(layout='constrained')\n",
    "    pc = pcolormesh_sym(ds.xu, ds.zt, ds.v, vbound=0.01, ax=axs)\n",
    "    axs.contour(ds.xu, ds.zt, ds.temp, colors='k', levels=np.arange(-1, 20, 1), linewidths=0.5)\n",
    "    axs.set_ylabel('Depth [m]')\n",
    "    axs.set_xlabel('Longitude [deg]')\n",
    "    fig.colorbar(pc, ax=axs, extend='both', shrink=0.6)\n",
    "    axs.set_title(f'North-south velocity [m/s] at {lat0} degrees N')"
   ]
  },
  {
   "cell_type": "markdown",
   "id": "2322cf82-eda6-474f-88e6-7ec7087c3fa2",
   "metadata": {},
   "source": [
    "There is clearly a two-layer flow, with opposing layers above and below about 1000 m. In the deep layer there is a strong southwards flow on the western boundary coupled with a weaker northwards flow in the interior.  "
   ]
  },
  {
   "cell_type": "markdown",
   "id": "579b4ac3-d413-4d8b-a766-bde3d59a755d",
   "metadata": {},
   "source": [
    "## Q1.1.2 Quantify the north-south transport\n",
    "\n",
    "For the whole basin, consider the deeper layer you identified above and calculate the vertically integrated north south transport, per degree of longitude, in the basin and plot.  Do the same for the east-west transport, and comment on the structures."
   ]
  },
  {
   "cell_type": "code",
   "execution_count": null,
   "id": "f3beb0ea-27aa-4a86-a5de-d59e878baff1",
   "metadata": {
    "tags": []
   },
   "outputs": [],
   "source": [
    "with xr.open_dataset('../Assign4/OverturningBeta10e5Coarse.snapshot.nc') as ds:\n",
    "    ds = ds.isel(Time=-1)\n",
    "    sumv = ds.v.sel(zt=slice(-10_000, -1_200)).integrate(coord='zt')\n",
    "    sumu = ds.u.sel(zt=slice(-10_000, -1_200)).integrate(coord='zt')\n",
    "    fig, axs = plt.subplots(1, 2, sharex=True, sharey=True, layout='constrained')\n",
    "    pcolormesh_sym(ds.xt, ds.yu, sumv, 30, ax=axs[0])\n",
    "    axs[0].set_title('North-south transport \\nper degree longitude [m^2/s]', fontsize='medium')\n",
    "    axs[0].set_ylabel('Lat [degrees]')\n",
    "    pc = pcolormesh_sym(ds.xt, ds.yu, sumu, 30, ax=axs[1])\n",
    "    axs[1].set_title('East-west transport \\nper degree latitude [m^2/s]', fontsize='medium')\n",
    "    axs[1].set_xlabel('Lon [degrees]')\n",
    "    fig.colorbar(pc, ax=axs, extend='both', shrink=0.6)"
   ]
  },
  {
   "cell_type": "markdown",
   "id": "2f087d5c-3057-4342-9dcf-402c26cc98b5",
   "metadata": {},
   "source": [
    "The western boundary current is clear in this plot.  The return flow in the interior is not completely symmetric, with the return flow concentrated towards the western side.  This indicates that the Stommel and Arons assumption of uniform upwelling in the interior may not apply here.  Note that the east-west transport supplies water to flow north in the interior, and then much of the flow is to the west in the norht part of the basin."
   ]
  },
  {
   "cell_type": "markdown",
   "id": "1988608c-b1ec-4d2e-9aa1-0b8a6afcbe54",
   "metadata": {},
   "source": [
    "## Q1.1.3 Plot w\n",
    "\n",
    "Plot w at the top of the volume you considered in the previous question and discuss if the Stomel-Arons assumption of uniform w is applicable."
   ]
  },
  {
   "cell_type": "code",
   "execution_count": null,
   "id": "72ebd87c-4b6f-42c5-9d65-08ccc31f130b",
   "metadata": {
    "tags": []
   },
   "outputs": [],
   "source": [
    "with xr.open_dataset('../Assign4/OverturningBeta10e5Coarse.snapshot.nc') as ds:\n",
    "    ds = ds.isel(Time=slice(-10, -1)).mean(dim='Time')\n",
    "    fig, axs = plt.subplots()\n",
    "    pc = pcolormesh_sym(ds.xt, ds.yt, ds.w.sel(zw=-1000, method='nearest'), 2e-6)\n",
    "    fig.colorbar(pc, ax=axs, shrink=0.6, extend='both')\n",
    "    axs.set_title('w at 1000 m [m/s]')\n",
    "    axs.set_xlabel('Lon [deg]')\n",
    "    axs.set_ylabel('Lat [deg]')"
   ]
  },
  {
   "cell_type": "markdown",
   "id": "ce240bb4-48f5-40f4-b505-0594b2f06c10",
   "metadata": {},
   "source": [
    "So we see that w is quit inhomogenous, with stronger w where we see stronger northward flow.  So Sverdrup dynamics is likely OK, but the assumption of uniform upwelling is not correct here.  Note there are also strong vertical velocities at the boundaries, but they are not the focus."
   ]
  },
  {
   "cell_type": "markdown",
   "id": "e9dccb5e-98ab-48d6-b22d-c809c946c935",
   "metadata": {},
   "source": [
    "## Q1.1.4 Transport as function of latitude\n",
    "\n",
    "Choose a central latitude, and plot the total transport in the deep layer as a function of longitude.  Comment on the net transport across this section compared to the peak transport in the section, with reference to the expectations from the Stomel-Arons theory.\n"
   ]
  },
  {
   "cell_type": "code",
   "execution_count": null,
   "id": "173ab58d-552e-4525-aeb3-46a27d0fc9a3",
   "metadata": {
    "tags": []
   },
   "outputs": [],
   "source": [
    "with xr.open_dataset('../Assign4/OverturningBeta10e5Coarse.snapshot.nc') as ds:\n",
    "    ds = ds.isel(Time=-1)\n",
    "    sumv = ds.v.sel(zt=slice(-10_000, -1_200)).integrate(coord='zt')\n",
    "\n",
    "    fig, ax = plt.subplots(2, 1, sharex=True, layout='constrained')\n",
    "    lat0=40\n",
    "    ax[0].plot(sumv.xt, sumv.sel(yu=lat0, method='nearest'))\n",
    "    ax[0].set_ylabel('Transport bottom \\n layer[m^2/s]')\n",
    "    ax[0].axhline(0, linestyle='--', color='k')\n",
    "    dx = 4 * 110e3 * np.cos(np.pi*lat0/180)\n",
    "    ax[1].plot(sumv.xt, sumv.sel(yu=lat0, method='nearest').cumsum() * dx/ 1e6)\n",
    "    ax[1].set_ylim([-20, 0])\n",
    "    ax[1].set_ylabel('Cumulative Transport \\n bottom layer [Sv]')\n"
   ]
  },
  {
   "cell_type": "markdown",
   "id": "32b8140e-21dd-4394-8f46-c93a65a8fe1d",
   "metadata": {},
   "source": [
    "So the net transport is about 10 Sv to the south in the deep layer.  The peak transport going south is almost twice as large, so the deep western boundary current is strengthened by the gyre set up by the Sverdrup-like dynamics due to the upwelling of water in the interior.  "
   ]
  },
  {
   "cell_type": "markdown",
   "id": "8c3a1b9b-e981-4010-943d-2589a8f927e5",
   "metadata": {},
   "source": [
    "# Q1.2 Available potential energy\n",
    "\n",
    "Lets examine the _idea_ of available potential energy in these simulations.  We won't properly calculate available potential energy because that is quite difficult in the spehrical geometry we ran these simulations with.  Instead, lets take one central longitude, and pretend that the longitude dimension has the same `dx` for each latitude (as opposed to in the actual spherical geometry, where dx gets narrower to the north).  \n",
    "\n",
    "# Q1.2.1 Calculate the background potential energy\n",
    "\n",
    "for each of \n",
    "\n",
    "```\n",
    "todo = ['../Assign4/OverturningBeta4e6Coarse.snapshot.nc', \n",
    "        '../Assign4/OverturningBeta1e5Coarse.snapshot.nc', \n",
    "        '../Assign4/OverturningBeta4e5Coarse.snapshot.nc',\n",
    "        '../Assign4/OverturningBeta8e5Coarse.snapshot.nc',\n",
    "        '../Assign4/OverturningBeta10e5Coarse.snapshot.nc',\n",
    "        '../Assign4/OverturningBeta4e4Coarse.snapshot.nc']\n",
    "```\n",
    "\n",
    "calculate a sorted version of the density (`ds.prho`) in a section at the central latitude, with the densest water at the bottom and lightest water at the surface.  \n",
    "\n",
    "This is a bit tricky, because the depth bins are not even!  So first I selected my time and values of `xt` and made a new data slice interpolated onto a new grid:\n",
    "\n",
    "```\n",
    "dsnew = ds.sel(zt=np.arange(-4000, 0, 20), method='nearest')\n",
    "```\n",
    "\n",
    "Then I used `np.sort` and `np.reshape` to make a new `prho0`.\n",
    "\n",
    "To show that you did this properly, contour `prho` and `prho0` for one of the simulations, using the same density contours.\n"
   ]
  },
  {
   "cell_type": "code",
   "execution_count": null,
   "id": "089fef94-f0ec-4d15-9c78-9ea942c6f147",
   "metadata": {
    "tags": []
   },
   "outputs": [],
   "source": [
    "td = '../Assign4/OverturningBeta10e5Coarse.snapshot.nc'\n",
    "with xr.open_dataset(td) as ds:\n",
    "    dsnew = ds.isel(Time=-1).isel(xt=10, xu=10).sel(zt=np.arange(-4000, 0, 20), method='nearest')\n",
    "    dsnew['dzt'] = 20\n",
    "    dsnew['prho0'] = (('zt', 'yt'), \n",
    "                          np.reshape(np.sort(dsnew.prho.values.flat)[::-1], \n",
    "                                     [dsnew.dims['zt'], dsnew.dims['yt']]))\n",
    "    fig, ax = plt.subplots()\n",
    "    levels = np.arange(-2, 2, 0.25)\n",
    "    ax.contour(dsnew.yt, dsnew.zt, dsnew.prho, levels=levels)\n",
    "    pp = ax.contour(dsnew.yt, dsnew.zt, dsnew.prho0, levels=levels, linestyles='--')\n",
    "    fig.colorbar(pp)\n",
    "    ax.set_ylabel('Depth [m]')\n",
    "    ax.set_xlabel('Lat [deg]')\n",
    "    ax.set_title(td)\n",
    "\n",
    "    print(np.mean(dsnew.prho0))\n",
    "    print(np.mean(dsnew.prho))"
   ]
  },
  {
   "cell_type": "markdown",
   "id": "bdfb3a7c-3da0-42d9-830b-d61eab59cf6d",
   "metadata": {},
   "source": [
    "We can see that the sorted version is not exactly flat - there are some isopycnals that have a jump because the sorting still has some inhomogenity at each depth.  We could average across latitudes to remove this, but it should not change the outcome substantially."
   ]
  },
  {
   "cell_type": "markdown",
   "id": "04e271d7-4661-4946-b6fb-cbc1f1807049",
   "metadata": {},
   "source": [
    "## Q1.2.2 Calculate the Available Potential Energy \n",
    "\n",
    "Calculate the PE of the background state and the actual state and calculate the APE for each of the simulations.  Make a log-log plot of K versus Background potential energy and a second of K versus APE.  Note that BPE can be negative, depending on what reference z you choose, so try adding an offset to z to make the BPE positive.  Note that APE should _not_ be affected by your choice of the z offset (and indeed changing the offset is a very useful way to demonstrate that you did the calculation correctly).  Express your ponential energy in units of J/m.  \n",
    "\n",
    "Comment on the trend in background potential energy as a function of K, and the available potential energy as functions of K. "
   ]
  },
  {
   "cell_type": "code",
   "execution_count": null,
   "id": "2eb131dd-2c95-44d1-a021-a9d0d739b0be",
   "metadata": {
    "tags": []
   },
   "outputs": [],
   "source": [
    "PE = np.zeros(6)\n",
    "PE0 = np.zeros(6)\n",
    "todo = ['../Assign4/OverturningBeta4e6Coarse.snapshot.nc', \n",
    "        '../Assign4/OverturningBeta1e5Coarse.snapshot.nc', '../Assign4/OverturningBeta4e5Coarse.snapshot.nc',\n",
    "        '../Assign4/OverturningBeta8e5Coarse.snapshot.nc',\n",
    "        '../Assign4/OverturningBeta10e5Coarse.snapshot.nc',\n",
    "        '../Assign4/OverturningBeta4e4Coarse.snapshot.nc',\n",
    "]\n",
    "\n",
    "K = [4e-6, 1e-5, 4e-5, 8e-5, 1e-4, 4e-4]\n",
    "for nn, td in enumerate(todo):\n",
    "    with xr.open_dataset(td) as ds:\n",
    "        \n",
    "        dsnew = ds.isel(Time=-1).isel(xt=10, xu=10).sel(zt=np.arange(-4000, 0, 20), method='nearest')\n",
    "        dsnew['dzt'] = 20\n",
    "        zoffset = 4000\n",
    "        PE[nn] = ((dsnew.prho) * (dsnew.zt+zoffset) * dsnew.dzt * dsnew.dyt * 4 * 111e3).sum().values\n",
    "        dsnew['rho0'] = (('zt', 'yt'), \n",
    "                      np.reshape(np.sort(dsnew.prho.values.flat)[::-1], [dsnew.dims['zt'], dsnew.dims['yt']]))\n",
    "\n",
    "        PE0[nn] = ((dsnew.rho0) * (dsnew.zt+zoffset) * dsnew.dzt * dsnew.dyt* 4 * 111e3).sum().values\n"
   ]
  },
  {
   "cell_type": "code",
   "execution_count": null,
   "id": "3a6a602e-29a4-4c6d-8b63-a73073c9f35c",
   "metadata": {
    "tags": []
   },
   "outputs": [],
   "source": [
    "fig, ax = plt.subplots(2, 1, layout='constrained')\n",
    "ax[0].loglog(K, PE, 'd')\n",
    "ax[0].loglog(K, PE0, 'd')\n",
    "ax[0].set_ylabel('BPE [J/m] zoffset = 4000 m')\n",
    "ax[1].loglog(K, PE-PE0, 'd')\n",
    "ax[1].set_xlabel('K [m^2/s]')\n",
    "ax[1].set_ylabel('APE [J/m]')"
   ]
  },
  {
   "cell_type": "markdown",
   "id": "c7590c21-caed-4660-acc1-aa4dc89d3fc9",
   "metadata": {
    "tags": []
   },
   "source": [
    "Background potential energy drops as K is increased. This is because the ocean holds more heat with more mixing than if there is less mixing.  \n",
    "\n",
    "Available potential energy increases with K because the buoyancy input near the south end of the basin is mixed down, and creates stron isopycnal slopes.  These of course create pressure gradients that subsquently drive the overturning circulation."
   ]
  },
  {
   "cell_type": "code",
   "execution_count": null,
   "id": "416afee1-3715-4daf-bc6d-7ce32d52b846",
   "metadata": {},
   "outputs": [],
   "source": []
  }
 ],
 "metadata": {
  "kernelspec": {
   "display_name": "Python 3 (ipykernel)",
   "language": "python",
   "name": "python3"
  },
  "language_info": {
   "codemirror_mode": {
    "name": "ipython",
    "version": 3
   },
   "file_extension": ".py",
   "mimetype": "text/x-python",
   "name": "python",
   "nbconvert_exporter": "python",
   "pygments_lexer": "ipython3",
   "version": "3.8.17"
  }
 },
 "nbformat": 4,
 "nbformat_minor": 5
}

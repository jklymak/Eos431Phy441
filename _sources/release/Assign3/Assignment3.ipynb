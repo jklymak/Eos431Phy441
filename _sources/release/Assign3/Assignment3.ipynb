{
 "cells": [
  {
   "cell_type": "markdown",
   "id": "8ee53acb-fc2f-4061-be8a-8c3d9ecc2380",
   "metadata": {
    "deletable": false,
    "editable": false,
    "nbgrader": {
     "cell_type": "markdown",
     "checksum": "c680b827e6475b183c1e32705df62de4",
     "grade": false,
     "grade_id": "cell-b82f26056843434c",
     "locked": true,
     "schema_version": 3,
     "solution": false,
     "task": false
    },
    "tags": []
   },
   "source": [
    "(assignment_3)=\n",
    "# Assignment 3: Basin-scale flows and waves\n",
    "\n",
    "For this assignment you will do quantiative analysis of the basin flow (see {ref}`assignment_2`), and a qualitative analysis of planetary-scale waves in a basin.\n",
    "\n",
    "## Q1.1  Ekman pumping\n",
    "\n",
    "For both the f- and beta-plane simulations (`basinfplane` and `basinbetaplane`) there should be a convergence of fluid towards the central latitude of the basin.  Show that, in steady state, this fluid is being pushed downwards at a rate expected by the wind forcing.\n",
    "\n",
    "### Q1.1.a Determine depth of Ekman layer\n",
    "\n",
    "Plot cross sections of `v(x, z)` at a couple of locations north and south of the central value of y, and estimate how deep the Ekman layer is. Compare with the theoretical Ekman depth.  \n",
    "\n"
   ]
  },
  {
   "cell_type": "code",
   "execution_count": null,
   "id": "4bb8e568-b56c-43e1-9983-a563126cf835",
   "metadata": {
    "deletable": false,
    "editable": false,
    "nbgrader": {
     "cell_type": "code",
     "checksum": "d6b2cfc5dd6c660617f4d9a55d74f570",
     "grade": false,
     "grade_id": "cell-abe4bb0080495009",
     "locked": true,
     "schema_version": 3,
     "solution": false,
     "task": false
    },
    "tags": []
   },
   "outputs": [],
   "source": [
    "import xarray as xr\n",
    "import numpy as np\n",
    "import matplotlib.pyplot as plt\n",
    "\n",
    "def subplots_shared(n, m, sharex=True, sharey=True, layout='constrained', figsize=None):\n",
    "    return plt.subplots(n, m, sharex=sharex, sharey=sharey, layout=layout, figsize=figsize)\n",
    "\n",
    "def pcolormesh_sym(x, y, z, vbound, ax=None, cmap='RdBu_r'):\n",
    "    if ax is None:\n",
    "        ax = plt.gca()\n",
    "    return ax.pcolormesh(x, y, z, vmin=-vbound, vmax=vbound, cmap=cmap, rasterized=True)\n",
    "\n",
    "def tohours(Time):\n",
    "    return Time.values.astype('float') / 1e9 /3600\n"
   ]
  },
  {
   "cell_type": "code",
   "execution_count": null,
   "id": "b38d7a1c-c9d7-48c5-9107-74e41f9d5541",
   "metadata": {
    "deletable": false,
    "editable": false,
    "nbgrader": {
     "cell_type": "code",
     "checksum": "0a6beb19d3eb14518efdaee2473e6c22",
     "grade": false,
     "grade_id": "cell-a71f52438f2530ac",
     "locked": true,
     "schema_version": 3,
     "solution": false,
     "task": false
    },
    "tags": [
     "skip-execution"
    ]
   },
   "outputs": [],
   "source": [
    "# use the matplotlib widget\n",
    "%matplotlib widget"
   ]
  },
  {
   "cell_type": "code",
   "execution_count": null,
   "id": "74da1630-e629-4fbd-9891-409cfc6ffc1a",
   "metadata": {
    "deletable": false,
    "nbgrader": {
     "cell_type": "code",
     "checksum": "cd33a3402beb99592066863310abbfbb",
     "grade": true,
     "grade_id": "cell-c1e3195c9950cdd6",
     "locked": false,
     "points": 0,
     "schema_version": 3,
     "solution": true,
     "task": false
    },
    "tags": []
   },
   "outputs": [],
   "source": [
    "# YOUR CODE HERE\n",
    "raise NotImplementedError()"
   ]
  },
  {
   "cell_type": "markdown",
   "id": "61ba9125-fc71-4f9f-8f01-8ca80e60feef",
   "metadata": {
    "deletable": false,
    "nbgrader": {
     "cell_type": "markdown",
     "checksum": "54db576c7af38b82d8d2fb619d82ec5c",
     "grade": true,
     "grade_id": "cell-785efff7267afb5c",
     "locked": false,
     "points": 0,
     "schema_version": 3,
     "solution": true,
     "task": false
    },
    "tags": []
   },
   "source": [
    "YOUR ANSWER HERE"
   ]
  },
  {
   "cell_type": "markdown",
   "id": "38325de7-4c8a-437c-8706-d4f5c77ba909",
   "metadata": {
    "deletable": false,
    "editable": false,
    "nbgrader": {
     "cell_type": "markdown",
     "checksum": "0888ca163a50c958ec11c45f214a35e6",
     "grade": false,
     "grade_id": "cell-e7dbedb4a7de3846",
     "locked": true,
     "schema_version": 3,
     "solution": false,
     "task": false
    },
    "tags": []
   },
   "source": [
    "### Q1.1b  Vertical velocity.\n",
    "\n",
    "Plot structure of w at base of Ekman layer, and comment on the structure.  \n",
    "\n",
    "```{hint} \n",
    "Beware not to let the colour limits focus too much on the sides of the basin.\n",
    "```\n",
    "\n",
    "Discuss the structure, and note what is happeneing at the sidewalls (why?)\n"
   ]
  },
  {
   "cell_type": "code",
   "execution_count": null,
   "id": "8b7c5c75-abc0-4efb-bc3d-781f72c8ad9e",
   "metadata": {
    "deletable": false,
    "nbgrader": {
     "cell_type": "code",
     "checksum": "5bc858ccd7223f743ab3692e294cdfd8",
     "grade": true,
     "grade_id": "cell-ed316dd957143fb4",
     "locked": false,
     "points": 0,
     "schema_version": 3,
     "solution": true,
     "task": false
    },
    "tags": []
   },
   "outputs": [],
   "source": [
    "# YOUR CODE HERE\n",
    "raise NotImplementedError()"
   ]
  },
  {
   "cell_type": "markdown",
   "id": "9a5deb31-8c4c-4196-a849-5f8fe5622e83",
   "metadata": {
    "deletable": false,
    "nbgrader": {
     "cell_type": "markdown",
     "checksum": "62230cc66626ff5fc3f26ddc10fbeb66",
     "grade": true,
     "grade_id": "cell-3ceb9efc00275eac",
     "locked": false,
     "points": 0,
     "schema_version": 3,
     "solution": true,
     "task": false
    },
    "tags": []
   },
   "source": [
    "YOUR ANSWER HERE"
   ]
  },
  {
   "cell_type": "markdown",
   "id": "27aba733-df58-4961-bfe9-6ddb8916962e",
   "metadata": {
    "deletable": false,
    "editable": false,
    "nbgrader": {
     "cell_type": "markdown",
     "checksum": "20d9ee19ed86cb1a75699e0be6474c03",
     "grade": false,
     "grade_id": "cell-6f96db3bf2133181",
     "locked": true,
     "schema_version": 3,
     "solution": false,
     "task": false
    },
    "tags": []
   },
   "source": [
    "### Q1.1c Compare w/ Ekman Pumping\n",
    "\n",
    "Compare the vertical velocity, say at x=75 km to the expected Ekman pumping velocity for both the f-plane and the beta-plane solutions"
   ]
  },
  {
   "cell_type": "code",
   "execution_count": null,
   "id": "67bcab4a-0cef-4c8b-9e15-84a94dba636c",
   "metadata": {
    "deletable": false,
    "nbgrader": {
     "cell_type": "code",
     "checksum": "ced85b2fb9492da24402ecca5f1453d4",
     "grade": true,
     "grade_id": "cell-54f3731fb32558f6",
     "locked": false,
     "points": 0,
     "schema_version": 3,
     "solution": true,
     "task": false
    },
    "tags": []
   },
   "outputs": [],
   "source": [
    "# YOUR CODE HERE\n",
    "raise NotImplementedError()"
   ]
  },
  {
   "cell_type": "markdown",
   "id": "b7cb855a-c34a-4fba-b49f-568a1e9b8ca6",
   "metadata": {
    "deletable": false,
    "nbgrader": {
     "cell_type": "markdown",
     "checksum": "e69532339280b656eefd59e4bafd62a5",
     "grade": true,
     "grade_id": "cell-f7dbbae75e2c1e4c",
     "locked": false,
     "points": 0,
     "schema_version": 3,
     "solution": true,
     "task": false
    },
    "tags": []
   },
   "source": [
    "YOUR ANSWER HERE"
   ]
  },
  {
   "cell_type": "markdown",
   "id": "85234b18-b13e-45c2-aeb6-2580dc9af6f7",
   "metadata": {
    "deletable": false,
    "editable": false,
    "nbgrader": {
     "cell_type": "markdown",
     "checksum": "a08c31bb339662901e54f25a2a16d985",
     "grade": false,
     "grade_id": "cell-d9a6f3c30880b6bc",
     "locked": true,
     "schema_version": 3,
     "solution": false,
     "task": false
    },
    "tags": []
   },
   "source": [
    "## Q1.2 Sverdrup transport\n",
    "\n",
    "Fro the beta plane, calculate the vertically transport across the middle latitude as a function of x, and compare to the Sverdrup transport."
   ]
  },
  {
   "cell_type": "code",
   "execution_count": null,
   "id": "86739297-9557-40e9-b8f3-d3647540de04",
   "metadata": {
    "deletable": false,
    "nbgrader": {
     "cell_type": "code",
     "checksum": "85470cd7f7667865ad8157f782a358c4",
     "grade": true,
     "grade_id": "cell-128cfda7786f5a49",
     "locked": false,
     "points": 0,
     "schema_version": 3,
     "solution": true,
     "task": false
    },
    "tags": []
   },
   "outputs": [],
   "source": [
    "# YOUR CODE HERE\n",
    "raise NotImplementedError()"
   ]
  },
  {
   "cell_type": "markdown",
   "id": "b7d95f94-9ecc-4d35-84f0-192814412986",
   "metadata": {
    "deletable": false,
    "nbgrader": {
     "cell_type": "markdown",
     "checksum": "655d233f5b321c61a79d56199afccef3",
     "grade": true,
     "grade_id": "cell-c3f1eb211d26b0d5",
     "locked": false,
     "points": 0,
     "schema_version": 3,
     "solution": true,
     "task": false
    },
    "tags": []
   },
   "source": [
    "YOUR ANSWER HERE"
   ]
  },
  {
   "cell_type": "markdown",
   "id": "f248dd2f-1190-4c09-ab4c-75d862f5c2e7",
   "metadata": {
    "deletable": false,
    "editable": false,
    "nbgrader": {
     "cell_type": "markdown",
     "checksum": "96afceac80df07e6cbf6f24134afa240",
     "grade": false,
     "grade_id": "cell-9cb4642a251baab4",
     "locked": true,
     "schema_version": 3,
     "solution": false,
     "task": false
    },
    "tags": []
   },
   "source": [
    "### Q1.2b Now plot what this transport looks like as a function of x and y"
   ]
  },
  {
   "cell_type": "code",
   "execution_count": null,
   "id": "5ef149c1-7bf4-42c2-a0a7-5c054ded9762",
   "metadata": {
    "deletable": false,
    "nbgrader": {
     "cell_type": "code",
     "checksum": "7dacc9aabb0174afb778e9637952f545",
     "grade": true,
     "grade_id": "cell-3677e122600328ea",
     "locked": false,
     "points": 0,
     "schema_version": 3,
     "solution": true,
     "task": false
    },
    "tags": []
   },
   "outputs": [],
   "source": [
    "# YOUR CODE HERE\n",
    "raise NotImplementedError()"
   ]
  },
  {
   "cell_type": "markdown",
   "id": "f0cda975-65a1-4417-9957-6090ea3e6700",
   "metadata": {
    "deletable": false,
    "nbgrader": {
     "cell_type": "markdown",
     "checksum": "97c83ab1802f5d9164c795fd6ca1fb96",
     "grade": true,
     "grade_id": "cell-3aff0fc8fd4e8b40",
     "locked": false,
     "points": 0,
     "schema_version": 3,
     "solution": true,
     "task": false
    },
    "tags": []
   },
   "source": [
    "YOUR ANSWER HERE"
   ]
  },
  {
   "cell_type": "markdown",
   "id": "f00116bf-d503-434e-88a7-0c5e0d28d7a4",
   "metadata": {
    "deletable": false,
    "editable": false,
    "nbgrader": {
     "cell_type": "markdown",
     "checksum": "1f0fe142158b99b7fb367d635312b141",
     "grade": false,
     "grade_id": "cell-12939d827efb2ba7",
     "locked": true,
     "schema_version": 3,
     "solution": false,
     "task": false
    },
    "tags": []
   },
   "source": [
    "## Q1.3 Western boundary current\n",
    "\n",
    "### Q1.3.a\n",
    "\n",
    "Plot the Sverdrup transport due to the north/south bottom stress, bearing in mind that it is quadratic with $\\tau_b^y/\\rho = -C_D v|v|$, where $C_D = 10^{-1}$. (This is actually an approximation - it should be $\\tau_b^y/\\rho = -C_D v|\\mathbf{u}|$, but the x-direction velocity is relatively modest).  Compare to the volumn transport as you did above and comment.\n"
   ]
  },
  {
   "cell_type": "code",
   "execution_count": null,
   "id": "bfb8f867-83f4-4e9e-ae8b-3d98a12eb246",
   "metadata": {
    "deletable": false,
    "nbgrader": {
     "cell_type": "code",
     "checksum": "d6a53f9bb920ea95c65e1e0081d7951f",
     "grade": true,
     "grade_id": "cell-1880b9d8fa39b32a",
     "locked": false,
     "points": 0,
     "schema_version": 3,
     "solution": true,
     "task": false
    },
    "tags": []
   },
   "outputs": [],
   "source": [
    "# YOUR CODE HERE\n",
    "raise NotImplementedError()"
   ]
  },
  {
   "cell_type": "markdown",
   "id": "c6c9dbf6-f00f-4979-857d-d99716907c12",
   "metadata": {
    "deletable": false,
    "nbgrader": {
     "cell_type": "markdown",
     "checksum": "51b38aa27d8e707f817e9916329784b9",
     "grade": true,
     "grade_id": "cell-4daa25c31946a2af",
     "locked": false,
     "points": 0,
     "schema_version": 3,
     "solution": true,
     "task": false
    },
    "tags": []
   },
   "source": [
    "YOUR ANSWER HERE"
   ]
  },
  {
   "cell_type": "markdown",
   "id": "43e07deb-13da-4889-979e-1103d4adcdce",
   "metadata": {
    "deletable": false,
    "editable": false,
    "nbgrader": {
     "cell_type": "markdown",
     "checksum": "bfa5e4f9ca071356d63071cbfe766d3b",
     "grade": false,
     "grade_id": "cell-4d3ffbbc835a7989",
     "locked": true,
     "schema_version": 3,
     "solution": false,
     "task": false
    },
    "tags": []
   },
   "source": [
    "### Q1.3.b if return current on other side? \n",
    "\n",
    "Comment on the sense of torque if the return current were on the other side of the basin?"
   ]
  },
  {
   "cell_type": "markdown",
   "id": "fd18214d-b339-4dc9-9944-810baf0b19df",
   "metadata": {
    "deletable": false,
    "nbgrader": {
     "cell_type": "markdown",
     "checksum": "293fd5efbfbdf82280fbaa1316dcb07d",
     "grade": true,
     "grade_id": "cell-6ecca17e6f982418",
     "locked": false,
     "points": 0,
     "schema_version": 3,
     "solution": true,
     "task": false
    },
    "tags": []
   },
   "source": [
    "YOUR ANSWER HERE"
   ]
  },
  {
   "cell_type": "markdown",
   "id": "03e71094-898c-4747-9282-659571ebcb20",
   "metadata": {
    "deletable": false,
    "editable": false,
    "nbgrader": {
     "cell_type": "markdown",
     "checksum": "85c700bdc62f463365369f99cb3a468c",
     "grade": false,
     "grade_id": "cell-b0d7d0b0385a3fb7",
     "locked": true,
     "schema_version": 3,
     "solution": false,
     "task": false
    },
    "tags": []
   },
   "source": [
    "### Q1.3.c East/west flow\n",
    "\n",
    "Comment on the sense of the east/west flow in the basin in relation to the net north/south flow."
   ]
  },
  {
   "cell_type": "markdown",
   "id": "dc46cb73-2746-495e-8075-80ac18275686",
   "metadata": {
    "deletable": false,
    "nbgrader": {
     "cell_type": "markdown",
     "checksum": "3642bd3341385296701f67f312503b85",
     "grade": true,
     "grade_id": "cell-ac7360ab5c1745f2",
     "locked": false,
     "points": 0,
     "schema_version": 3,
     "solution": true,
     "task": false
    },
    "tags": []
   },
   "source": [
    "YOUR ANSWER HERE"
   ]
  },
  {
   "cell_type": "markdown",
   "id": "3e1fa09a-79b7-4684-bf4e-decda9b56111",
   "metadata": {
    "deletable": false,
    "editable": false,
    "nbgrader": {
     "cell_type": "markdown",
     "checksum": "158666d2de4b7f4eb5d4c79cb90ae858",
     "grade": false,
     "grade_id": "cell-a8a35612014dcdbb",
     "locked": true,
     "schema_version": 3,
     "solution": false,
     "task": false
    },
    "tags": []
   },
   "source": [
    "## Q2 Planetary waves: Qualitative\n",
    "\n",
    "### Q2.1 Poincarre versus Kelvin waves. \n",
    "\n",
    "Run [Poincarre12.py](Poincarre12.py) and [Kelvin40.py](Kelvin40.py).  They are forced exactly the same way, by a Gaussian-shaped alternation of a wind stress at the east side of the basin. This is run in a 200-m deep ocean, with the upper 60 m at 30 degrees C, and the bottom 140 m at 10 degrees C.  \n",
    "\n",
    "[Poincarre12.py](Poincarre12.py) is forced with a 12-h forcing period - note that the Coriolis period is $T = \\frac{2\\pi}{f} = 17.45 h$, so these waves are \"super-inertial\".  [Kelvin40.py](Kelvin40.py) is forced at 40 h, so these waves are sub-inertial.  \n",
    "\n",
    "Plot some time snaps of u or v near the surface. Describe the difference between the two forcings. \n",
    "\n",
    "```{note}\n",
    "The dominant response will be \"internal waves\" where the interface between the 10 and 30 degree water moves up and down.  The buoyancy effect is such that these waves see a reduced gravity of $g' \\approx \\frac{\\delta \\rho}{\\rho} g \\approx 0.0382 \\ \\mathrm{m\\, s^{-2}}$.\n",
    "\n",
    "```"
   ]
  },
  {
   "cell_type": "code",
   "execution_count": null,
   "id": "600a7c4c-75a9-438a-9794-3a42e21e7b78",
   "metadata": {
    "deletable": false,
    "nbgrader": {
     "cell_type": "code",
     "checksum": "5a677b73b6b978fbed70e726dbfb17a3",
     "grade": true,
     "grade_id": "cell-92e8376e9f666efb",
     "locked": false,
     "points": 0,
     "schema_version": 3,
     "solution": true,
     "task": false
    },
    "tags": []
   },
   "outputs": [],
   "source": [
    "# YOUR CODE HERE\n",
    "raise NotImplementedError()"
   ]
  },
  {
   "cell_type": "markdown",
   "id": "bde2b65b-ac34-4add-9cad-ad004500ace9",
   "metadata": {
    "deletable": false,
    "nbgrader": {
     "cell_type": "markdown",
     "checksum": "37f4543ada9aabc6c459135db194bc47",
     "grade": true,
     "grade_id": "cell-17ee797070eb3b68",
     "locked": false,
     "points": 0,
     "schema_version": 3,
     "solution": true,
     "task": false
    },
    "tags": []
   },
   "source": [
    "YOUR ANSWER HERE"
   ]
  },
  {
   "cell_type": "markdown",
   "id": "a395aca9-9d7c-494f-8ddd-8106987768a5",
   "metadata": {
    "deletable": false,
    "editable": false,
    "nbgrader": {
     "cell_type": "markdown",
     "checksum": "722c1d0f265c491879a55e7bbef7f6b6",
     "grade": false,
     "grade_id": "cell-17bc231a54af5ab4",
     "locked": true,
     "schema_version": 3,
     "solution": false,
     "task": false
    },
    "tags": []
   },
   "source": [
    "### Q2.2 Rossby waves\n",
    "\n",
    "Run [Rossby200.py](Rossby200.py), [Rossby300.py](Rossby300.py), [Rossby400.py](Rossby400.py).  These simulations are substantially larger, and have no temperature stratification - the waves excited are on the surface rather than an interface.  If the forcing is slow and large scale, we generate Rossby waves.  Here the wave maker is in the middle of the basin rather than along an edge.\n",
    "\n",
    "Compare the response of these three simulations at a few time steps"
   ]
  },
  {
   "cell_type": "code",
   "execution_count": null,
   "id": "dca2fa4c-8649-4bdd-bed8-5cca6b802bb6",
   "metadata": {
    "deletable": false,
    "nbgrader": {
     "cell_type": "code",
     "checksum": "7313f0611dc3de4c18295f7deb39cf2f",
     "grade": true,
     "grade_id": "cell-40e64640a5ff8cd4",
     "locked": false,
     "points": 0,
     "schema_version": 3,
     "solution": true,
     "task": false
    },
    "tags": []
   },
   "outputs": [],
   "source": [
    "# YOUR CODE HERE\n",
    "raise NotImplementedError()"
   ]
  },
  {
   "cell_type": "markdown",
   "id": "ffffec03-f3ab-4f93-966d-0a180914413e",
   "metadata": {
    "deletable": false,
    "nbgrader": {
     "cell_type": "markdown",
     "checksum": "df3282da7047bf4dc8fed5344c21c223",
     "grade": true,
     "grade_id": "cell-ec5197e474c7ccff",
     "locked": false,
     "points": 0,
     "schema_version": 3,
     "solution": true,
     "task": false
    },
    "tags": []
   },
   "source": [
    "YOUR ANSWER HERE"
   ]
  },
  {
   "cell_type": "markdown",
   "id": "bf6a31f4-4d16-4696-b72d-9702d9832ec8",
   "metadata": {
    "deletable": false,
    "editable": false,
    "nbgrader": {
     "cell_type": "markdown",
     "checksum": "dc1b03c4037699cc5ad185d826867d8b",
     "grade": false,
     "grade_id": "cell-fc07ecec02908db8",
     "locked": true,
     "schema_version": 3,
     "solution": false,
     "task": false
    },
    "tags": []
   },
   "source": [
    "### Q2.2b Hovmoller\n",
    "\n",
    "Its a little hard to see the wave propagation in the above because the waves are so long relative to the basin size.  Plot each simulation using a Hovmoller diagram, probably at the middle value of y (`.isel(yt=35, yu=35)`).\n",
    "\n",
    "Try to interpret this - consider two things - phase speeds are set by the slope of the alternating bands.  Group speed, which is the speed energy is propagating, is set by the slope of increasing amplitude of the waves.  Try to pick these features out of the Hovmoller diagrams."
   ]
  },
  {
   "cell_type": "code",
   "execution_count": null,
   "id": "ada7472c-068b-4ecc-b10b-6c1cd5751bf9",
   "metadata": {
    "deletable": false,
    "nbgrader": {
     "cell_type": "code",
     "checksum": "05940714168e4145c3992efeb616e404",
     "grade": true,
     "grade_id": "cell-d6afe2d65e970525",
     "locked": false,
     "points": 0,
     "schema_version": 3,
     "solution": true,
     "task": false
    },
    "tags": []
   },
   "outputs": [],
   "source": [
    "# YOUR CODE HERE\n",
    "raise NotImplementedError()"
   ]
  },
  {
   "cell_type": "markdown",
   "id": "048225e3-9139-42f4-9e66-e6c2ac5cf5a4",
   "metadata": {
    "deletable": false,
    "nbgrader": {
     "cell_type": "markdown",
     "checksum": "73514e8fb3236bfc78722f1ab40535ff",
     "grade": true,
     "grade_id": "cell-b005d110aeee94d4",
     "locked": false,
     "points": 0,
     "schema_version": 3,
     "solution": true,
     "task": false
    },
    "tags": []
   },
   "source": [
    "YOUR ANSWER HERE"
   ]
  }
 ],
 "metadata": {
  "kernelspec": {
   "display_name": "Python 3 (ipykernel)",
   "language": "python",
   "name": "python3"
  },
  "language_info": {
   "codemirror_mode": {
    "name": "ipython",
    "version": 3
   },
   "file_extension": ".py",
   "mimetype": "text/x-python",
   "name": "python",
   "nbconvert_exporter": "python",
   "pygments_lexer": "ipython3",
   "version": "3.8.17"
  }
 },
 "nbformat": 4,
 "nbformat_minor": 5
}
